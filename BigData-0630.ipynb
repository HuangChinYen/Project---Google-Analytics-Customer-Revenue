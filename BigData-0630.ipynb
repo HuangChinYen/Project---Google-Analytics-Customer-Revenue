{
 "cells": [
  {
   "cell_type": "markdown",
   "metadata": {},
   "source": [
    "# Google Analytics Customer Revenue Prediction"
   ]
  },
  {
   "cell_type": "markdown",
   "metadata": {},
   "source": [
    "### Group Members\n",
    "* Zili Bu\n",
    "* Hsin-Yu Chen\n",
    "* Kexin Zhang\n",
    "* Huang-Chin Ye"
   ]
  },
  {
   "cell_type": "markdown",
   "metadata": {},
   "source": [
    "### Executive Summary"
   ]
  },
  {
   "cell_type": "markdown",
   "metadata": {},
   "source": [
    "### Introduction\n",
    "* What dataset you used and your initial plan"
   ]
  },
  {
   "cell_type": "markdown",
   "metadata": {},
   "source": [
    "We found Google Analytics Customer Revenue Prediction dataset from Kaggle. Our initial plan is to clean the dataset, explore the dataset by plots, use spark sql to do further analysis to get an insight about user behaviors. "
   ]
  },
  {
   "cell_type": "markdown",
   "metadata": {},
   "source": [
    "### Exploratory analysis section\n",
    "* Any insights you've learned from the data (with charts to illustrate)"
   ]
  },
  {
   "cell_type": "code",
   "execution_count": 1,
   "metadata": {},
   "outputs": [],
   "source": [
    "# import needed libraries\n",
    "import pandas as pd\n",
    "import numpy as np"
   ]
  },
  {
   "cell_type": "code",
   "execution_count": 2,
   "metadata": {},
   "outputs": [],
   "source": [
    "import findspark\n",
    "findspark.init()"
   ]
  },
  {
   "cell_type": "code",
   "execution_count": 3,
   "metadata": {},
   "outputs": [],
   "source": [
    "from pyspark import SparkContext\n",
    "sc = SparkContext()"
   ]
  },
  {
   "cell_type": "code",
   "execution_count": 4,
   "metadata": {},
   "outputs": [],
   "source": [
    "from pyspark.sql import SparkSession\n",
    "from pyspark.sql.functions import lit\n",
    "spark = SparkSession.builder.appName(\"Project-DNSC6290\").getOrCreate()"
   ]
  },
  {
   "cell_type": "code",
   "execution_count": 5,
   "metadata": {},
   "outputs": [],
   "source": [
    "from time import time"
   ]
  },
  {
   "cell_type": "code",
   "execution_count": 6,
   "metadata": {},
   "outputs": [],
   "source": [
    "import matplotlib.pyplot as plt\n",
    "import seaborn as sns"
   ]
  },
  {
   "cell_type": "code",
   "execution_count": 7,
   "metadata": {},
   "outputs": [],
   "source": [
    "import json # to convert json in df\n",
    "from pandas.io.json import json_normalize # to normalize the json file\n",
    "import os # it's a operational system library, to set some informations"
   ]
  },
  {
   "cell_type": "markdown",
   "metadata": {},
   "source": [
    "## Convert Json Columns"
   ]
  },
  {
   "cell_type": "code",
   "execution_count": 8,
   "metadata": {},
   "outputs": [],
   "source": [
    "#dir_path = \"/Users/hyen86/BigData/Project/\"\n",
    "def load_df(df, nrows = None):\n",
    "    #Columns that have json format\n",
    "    json_columns = ['device', 'geoNetwork', 'totals', 'trafficSource']\n",
    "    #nrows = None\n",
    "    \n",
    "    df = pd.read_csv(df, \n",
    "                converters={column: json.loads for column in json_columns}, \n",
    "                dtype={'fullVisitorId': 'str'}, # Important!!\n",
    "                nrows=nrows)\n",
    "    \n",
    "    for column in json_columns:\n",
    "        column_as_df = json_normalize(df[column])\n",
    "        column_as_df.columns = [f\"{column}.{subcolumn}\" for subcolumn in column_as_df.columns]\n",
    "        df = df.drop(column, axis=1).merge(column_as_df, right_index=True, left_index=True)\n",
    "    print(f\"Shape: {df.shape}\")\n",
    "    return df"
   ]
  },
  {
   "cell_type": "code",
   "execution_count": 9,
   "metadata": {},
   "outputs": [
    {
     "name": "stdout",
     "output_type": "stream",
     "text": [
      "Shape: (1708337, 60)\n"
     ]
    }
   ],
   "source": [
    "#call the function\n",
    "data = load_df(\"train_v2.csv\")"
   ]
  },
  {
   "cell_type": "code",
   "execution_count": 10,
   "metadata": {},
   "outputs": [
    {
     "name": "stdout",
     "output_type": "stream",
     "text": [
      "<class 'pandas.core.frame.DataFrame'>\n",
      "RangeIndex: 1708337 entries, 0 to 1708336\n",
      "Data columns (total 60 columns):\n",
      "channelGrouping                                      object\n",
      "customDimensions                                     object\n",
      "date                                                 int64\n",
      "fullVisitorId                                        object\n",
      "hits                                                 object\n",
      "socialEngagementType                                 object\n",
      "visitId                                              int64\n",
      "visitNumber                                          int64\n",
      "visitStartTime                                       int64\n",
      "device.browser                                       object\n",
      "device.browserVersion                                object\n",
      "device.browserSize                                   object\n",
      "device.operatingSystem                               object\n",
      "device.operatingSystemVersion                        object\n",
      "device.isMobile                                      bool\n",
      "device.mobileDeviceBranding                          object\n",
      "device.mobileDeviceModel                             object\n",
      "device.mobileInputSelector                           object\n",
      "device.mobileDeviceInfo                              object\n",
      "device.mobileDeviceMarketingName                     object\n",
      "device.flashVersion                                  object\n",
      "device.language                                      object\n",
      "device.screenColors                                  object\n",
      "device.screenResolution                              object\n",
      "device.deviceCategory                                object\n",
      "geoNetwork.continent                                 object\n",
      "geoNetwork.subContinent                              object\n",
      "geoNetwork.country                                   object\n",
      "geoNetwork.region                                    object\n",
      "geoNetwork.metro                                     object\n",
      "geoNetwork.city                                      object\n",
      "geoNetwork.cityId                                    object\n",
      "geoNetwork.networkDomain                             object\n",
      "geoNetwork.latitude                                  object\n",
      "geoNetwork.longitude                                 object\n",
      "geoNetwork.networkLocation                           object\n",
      "totals.visits                                        object\n",
      "totals.hits                                          object\n",
      "totals.pageviews                                     object\n",
      "totals.bounces                                       object\n",
      "totals.newVisits                                     object\n",
      "totals.sessionQualityDim                             object\n",
      "totals.timeOnSite                                    object\n",
      "totals.transactions                                  object\n",
      "totals.transactionRevenue                            object\n",
      "totals.totalTransactionRevenue                       object\n",
      "trafficSource.campaign                               object\n",
      "trafficSource.source                                 object\n",
      "trafficSource.medium                                 object\n",
      "trafficSource.keyword                                object\n",
      "trafficSource.adwordsClickInfo.criteriaParameters    object\n",
      "trafficSource.referralPath                           object\n",
      "trafficSource.isTrueDirect                           object\n",
      "trafficSource.adContent                              object\n",
      "trafficSource.adwordsClickInfo.page                  object\n",
      "trafficSource.adwordsClickInfo.slot                  object\n",
      "trafficSource.adwordsClickInfo.gclId                 object\n",
      "trafficSource.adwordsClickInfo.adNetworkType         object\n",
      "trafficSource.adwordsClickInfo.isVideoAd             object\n",
      "trafficSource.campaignCode                           object\n",
      "dtypes: bool(1), int64(4), object(55)\n",
      "memory usage: 770.6+ MB\n"
     ]
    }
   ],
   "source": [
    "data.info()"
   ]
  },
  {
   "cell_type": "code",
   "execution_count": 11,
   "metadata": {},
   "outputs": [],
   "source": [
    "# data.to_csv('load_df_data.csv', index=False)"
   ]
  },
  {
   "cell_type": "code",
   "execution_count": 12,
   "metadata": {},
   "outputs": [],
   "source": [
    "# Check missing values fro each column\n",
    "def missing_values(data):\n",
    "    total = data.isnull().sum().sort_values(ascending = False)\n",
    "    percent = (data.isnull().sum() / data.isnull().count() * 100 ).sort_values(ascending = False)\n",
    "    df = pd.concat([total, percent], axis=1, keys=['Total', 'Percent'])\n",
    "    print(\"Total columns at least one Values: \")\n",
    "    print(df.loc[df['Total'] >0])\n",
    "    return"
   ]
  },
  {
   "cell_type": "code",
   "execution_count": 13,
   "metadata": {},
   "outputs": [
    {
     "name": "stdout",
     "output_type": "stream",
     "text": [
      "Total columns at least one Values: \n",
      "                                                Total    Percent\n",
      "trafficSource.campaignCode                    1708336  99.999941\n",
      "totals.totalTransactionRevenue                1689823  98.916256\n",
      "totals.transactionRevenue                     1689823  98.916256\n",
      "totals.transactions                           1689778  98.913622\n",
      "trafficSource.adContent                       1643600  96.210525\n",
      "trafficSource.adwordsClickInfo.adNetworkType  1633063  95.593727\n",
      "trafficSource.adwordsClickInfo.slot           1633063  95.593727\n",
      "trafficSource.adwordsClickInfo.page           1633063  95.593727\n",
      "trafficSource.adwordsClickInfo.isVideoAd      1633063  95.593727\n",
      "trafficSource.adwordsClickInfo.gclId          1632914  95.585005\n",
      "trafficSource.isTrueDirect                    1173819  68.711209\n",
      "trafficSource.referralPath                    1142073  66.852910\n",
      "trafficSource.keyword                         1052780  61.626014\n",
      "totals.timeOnSite                              874294  51.178076\n",
      "totals.bounces                                 836759  48.980910\n",
      "totals.sessionQualityDim                       835274  48.893983\n",
      "totals.newVisits                               400907  23.467676\n",
      "totals.pageviews                                  239   0.013990\n"
     ]
    }
   ],
   "source": [
    "missing_values(data)"
   ]
  },
  {
   "cell_type": "code",
   "execution_count": 14,
   "metadata": {},
   "outputs": [
    {
     "name": "stdout",
     "output_type": "stream",
     "text": [
      "0 channelGrouping\n",
      "1 customDimensions\n",
      "2 date\n",
      "3 fullVisitorId\n",
      "4 hits\n",
      "5 socialEngagementType\n",
      "6 visitId\n",
      "7 visitNumber\n",
      "8 visitStartTime\n",
      "9 device.browser\n",
      "10 device.browserVersion\n",
      "11 device.browserSize\n",
      "12 device.operatingSystem\n",
      "13 device.operatingSystemVersion\n",
      "14 device.isMobile\n",
      "15 device.mobileDeviceBranding\n",
      "16 device.mobileDeviceModel\n",
      "17 device.mobileInputSelector\n",
      "18 device.mobileDeviceInfo\n",
      "19 device.mobileDeviceMarketingName\n",
      "20 device.flashVersion\n",
      "21 device.language\n",
      "22 device.screenColors\n",
      "23 device.screenResolution\n",
      "24 device.deviceCategory\n",
      "25 geoNetwork.continent\n",
      "26 geoNetwork.subContinent\n",
      "27 geoNetwork.country\n",
      "28 geoNetwork.region\n",
      "29 geoNetwork.metro\n",
      "30 geoNetwork.city\n",
      "31 geoNetwork.cityId\n",
      "32 geoNetwork.networkDomain\n",
      "33 geoNetwork.latitude\n",
      "34 geoNetwork.longitude\n",
      "35 geoNetwork.networkLocation\n",
      "36 totals.visits\n",
      "37 totals.hits\n",
      "38 totals.pageviews\n",
      "39 totals.bounces\n",
      "40 totals.newVisits\n",
      "41 totals.sessionQualityDim\n",
      "42 totals.timeOnSite\n",
      "43 totals.transactions\n",
      "44 totals.transactionRevenue\n",
      "45 totals.totalTransactionRevenue\n",
      "46 trafficSource.campaign\n",
      "47 trafficSource.source\n",
      "48 trafficSource.medium\n",
      "49 trafficSource.keyword\n",
      "50 trafficSource.adwordsClickInfo.criteriaParameters\n",
      "51 trafficSource.referralPath\n",
      "52 trafficSource.isTrueDirect\n",
      "53 trafficSource.adContent\n",
      "54 trafficSource.adwordsClickInfo.page\n",
      "55 trafficSource.adwordsClickInfo.slot\n",
      "56 trafficSource.adwordsClickInfo.gclId\n",
      "57 trafficSource.adwordsClickInfo.adNetworkType\n",
      "58 trafficSource.adwordsClickInfo.isVideoAd\n",
      "59 trafficSource.campaignCode\n"
     ]
    }
   ],
   "source": [
    "for item in list(data.columns):\n",
    "    print(list(data.columns).index(item), item)"
   ]
  },
  {
   "cell_type": "raw",
   "metadata": {},
   "source": [
    "[1, 4, 39, 41, 42, 43, 45, 49, 52, 51, 53, 54, 55, 56, 57, 58 ,59]"
   ]
  },
  {
   "cell_type": "markdown",
   "metadata": {},
   "source": [
    "From above function, we can see some columns are having a lot of null values. Therefore, we deceided to drop all columns that have around or above 50% null vlaue. We drop all the trafficSource related columns."
   ]
  },
  {
   "cell_type": "code",
   "execution_count": 15,
   "metadata": {},
   "outputs": [],
   "source": [
    "# We dropped 17 columns\n",
    "dataNew = data.drop(data.columns[[1, 4, 39, 41, 42, 43, 45, 49, 52, 51, 53, 54, 55, 56, 57, 58 ,59]], axis=1)"
   ]
  },
  {
   "cell_type": "code",
   "execution_count": 16,
   "metadata": {},
   "outputs": [
    {
     "name": "stdout",
     "output_type": "stream",
     "text": [
      "<class 'pandas.core.frame.DataFrame'>\n",
      "RangeIndex: 1708337 entries, 0 to 1708336\n",
      "Data columns (total 43 columns):\n",
      "channelGrouping                                      object\n",
      "date                                                 int64\n",
      "fullVisitorId                                        object\n",
      "socialEngagementType                                 object\n",
      "visitId                                              int64\n",
      "visitNumber                                          int64\n",
      "visitStartTime                                       int64\n",
      "device.browser                                       object\n",
      "device.browserVersion                                object\n",
      "device.browserSize                                   object\n",
      "device.operatingSystem                               object\n",
      "device.operatingSystemVersion                        object\n",
      "device.isMobile                                      bool\n",
      "device.mobileDeviceBranding                          object\n",
      "device.mobileDeviceModel                             object\n",
      "device.mobileInputSelector                           object\n",
      "device.mobileDeviceInfo                              object\n",
      "device.mobileDeviceMarketingName                     object\n",
      "device.flashVersion                                  object\n",
      "device.language                                      object\n",
      "device.screenColors                                  object\n",
      "device.screenResolution                              object\n",
      "device.deviceCategory                                object\n",
      "geoNetwork.continent                                 object\n",
      "geoNetwork.subContinent                              object\n",
      "geoNetwork.country                                   object\n",
      "geoNetwork.region                                    object\n",
      "geoNetwork.metro                                     object\n",
      "geoNetwork.city                                      object\n",
      "geoNetwork.cityId                                    object\n",
      "geoNetwork.networkDomain                             object\n",
      "geoNetwork.latitude                                  object\n",
      "geoNetwork.longitude                                 object\n",
      "geoNetwork.networkLocation                           object\n",
      "totals.visits                                        object\n",
      "totals.hits                                          object\n",
      "totals.pageviews                                     object\n",
      "totals.newVisits                                     object\n",
      "totals.transactionRevenue                            object\n",
      "trafficSource.campaign                               object\n",
      "trafficSource.source                                 object\n",
      "trafficSource.medium                                 object\n",
      "trafficSource.adwordsClickInfo.criteriaParameters    object\n",
      "dtypes: bool(1), int64(4), object(38)\n",
      "memory usage: 549.0+ MB\n"
     ]
    }
   ],
   "source": [
    "dataNew.info()"
   ]
  },
  {
   "cell_type": "code",
   "execution_count": 17,
   "metadata": {},
   "outputs": [],
   "source": [
    "data_constCol = [c for c in dataNew.columns if dataNew[c].nunique()==1]"
   ]
  },
  {
   "cell_type": "code",
   "execution_count": 18,
   "metadata": {},
   "outputs": [
    {
     "data": {
      "text/plain": [
       "['socialEngagementType',\n",
       " 'device.browserVersion',\n",
       " 'device.browserSize',\n",
       " 'device.operatingSystemVersion',\n",
       " 'device.mobileDeviceBranding',\n",
       " 'device.mobileDeviceModel',\n",
       " 'device.mobileInputSelector',\n",
       " 'device.mobileDeviceInfo',\n",
       " 'device.mobileDeviceMarketingName',\n",
       " 'device.flashVersion',\n",
       " 'device.language',\n",
       " 'device.screenColors',\n",
       " 'device.screenResolution',\n",
       " 'geoNetwork.cityId',\n",
       " 'geoNetwork.latitude',\n",
       " 'geoNetwork.longitude',\n",
       " 'geoNetwork.networkLocation',\n",
       " 'totals.visits',\n",
       " 'totals.newVisits',\n",
       " 'trafficSource.adwordsClickInfo.criteriaParameters']"
      ]
     },
     "execution_count": 18,
     "metadata": {},
     "output_type": "execute_result"
    }
   ],
   "source": [
    "data_constCol"
   ]
  },
  {
   "cell_type": "markdown",
   "metadata": {},
   "source": [
    "From above code, we find these columns are all having one constant value, which are not informative for our analysis. We may consider to drop them."
   ]
  },
  {
   "cell_type": "code",
   "execution_count": 19,
   "metadata": {},
   "outputs": [],
   "source": [
    "dataNew2 = dataNew.drop(dataNew[data_constCol], axis=1)"
   ]
  },
  {
   "cell_type": "code",
   "execution_count": 20,
   "metadata": {},
   "outputs": [
    {
     "name": "stdout",
     "output_type": "stream",
     "text": [
      "<class 'pandas.core.frame.DataFrame'>\n",
      "RangeIndex: 1708337 entries, 0 to 1708336\n",
      "Data columns (total 23 columns):\n",
      "channelGrouping              object\n",
      "date                         int64\n",
      "fullVisitorId                object\n",
      "visitId                      int64\n",
      "visitNumber                  int64\n",
      "visitStartTime               int64\n",
      "device.browser               object\n",
      "device.operatingSystem       object\n",
      "device.isMobile              bool\n",
      "device.deviceCategory        object\n",
      "geoNetwork.continent         object\n",
      "geoNetwork.subContinent      object\n",
      "geoNetwork.country           object\n",
      "geoNetwork.region            object\n",
      "geoNetwork.metro             object\n",
      "geoNetwork.city              object\n",
      "geoNetwork.networkDomain     object\n",
      "totals.hits                  object\n",
      "totals.pageviews             object\n",
      "totals.transactionRevenue    object\n",
      "trafficSource.campaign       object\n",
      "trafficSource.source         object\n",
      "trafficSource.medium         object\n",
      "dtypes: bool(1), int64(4), object(18)\n",
      "memory usage: 288.4+ MB\n"
     ]
    }
   ],
   "source": [
    "dataNew2.info()"
   ]
  },
  {
   "cell_type": "markdown",
   "metadata": {},
   "source": [
    "### Creating the function to handle with date"
   ]
  },
  {
   "cell_type": "code",
   "execution_count": 21,
   "metadata": {},
   "outputs": [],
   "source": [
    "# library of datetime\n",
    "from datetime import datetime\n",
    "\n",
    "# This function is to extract date features\n",
    "def date_process(df):\n",
    "    df[\"date\"] = pd.to_datetime(df[\"date\"], format=\"%Y%m%d\") # seting the column as pandas datetime\n",
    "    df[\"weekday\"] = df['date'].dt.weekday #extracting week day\n",
    "    df[\"day\"] = df['date'].dt.day # extracting day\n",
    "    df[\"month\"] = df['date'].dt.month # extracting day\n",
    "    df[\"year\"] = df['date'].dt.year # extracting day\n",
    "    df[\"visitHour\"] = (df['visitStartTime'].apply(lambda x: str(datetime.fromtimestamp(x).hour))).astype(int)\n",
    "    \n",
    "    return df #returning the df after the transformations"
   ]
  },
  {
   "cell_type": "code",
   "execution_count": 22,
   "metadata": {},
   "outputs": [],
   "source": [
    "dataNew2 = date_process(dataNew2)"
   ]
  },
  {
   "cell_type": "code",
   "execution_count": 23,
   "metadata": {},
   "outputs": [
    {
     "data": {
      "text/html": [
       "<div>\n",
       "<style scoped>\n",
       "    .dataframe tbody tr th:only-of-type {\n",
       "        vertical-align: middle;\n",
       "    }\n",
       "\n",
       "    .dataframe tbody tr th {\n",
       "        vertical-align: top;\n",
       "    }\n",
       "\n",
       "    .dataframe thead th {\n",
       "        text-align: right;\n",
       "    }\n",
       "</style>\n",
       "<table border=\"1\" class=\"dataframe\">\n",
       "  <thead>\n",
       "    <tr style=\"text-align: right;\">\n",
       "      <th></th>\n",
       "      <th>channelGrouping</th>\n",
       "      <th>date</th>\n",
       "      <th>fullVisitorId</th>\n",
       "      <th>visitId</th>\n",
       "      <th>visitNumber</th>\n",
       "      <th>visitStartTime</th>\n",
       "      <th>device.browser</th>\n",
       "      <th>device.operatingSystem</th>\n",
       "      <th>device.isMobile</th>\n",
       "      <th>device.deviceCategory</th>\n",
       "      <th>...</th>\n",
       "      <th>totals.pageviews</th>\n",
       "      <th>totals.transactionRevenue</th>\n",
       "      <th>trafficSource.campaign</th>\n",
       "      <th>trafficSource.source</th>\n",
       "      <th>trafficSource.medium</th>\n",
       "      <th>weekday</th>\n",
       "      <th>day</th>\n",
       "      <th>month</th>\n",
       "      <th>year</th>\n",
       "      <th>visitHour</th>\n",
       "    </tr>\n",
       "  </thead>\n",
       "  <tbody>\n",
       "    <tr>\n",
       "      <td>0</td>\n",
       "      <td>Organic Search</td>\n",
       "      <td>2017-10-16</td>\n",
       "      <td>3162355547410993243</td>\n",
       "      <td>1508198450</td>\n",
       "      <td>1</td>\n",
       "      <td>1508198450</td>\n",
       "      <td>Firefox</td>\n",
       "      <td>Windows</td>\n",
       "      <td>False</td>\n",
       "      <td>desktop</td>\n",
       "      <td>...</td>\n",
       "      <td>1</td>\n",
       "      <td>NaN</td>\n",
       "      <td>(not set)</td>\n",
       "      <td>google</td>\n",
       "      <td>organic</td>\n",
       "      <td>0</td>\n",
       "      <td>16</td>\n",
       "      <td>10</td>\n",
       "      <td>2017</td>\n",
       "      <td>20</td>\n",
       "    </tr>\n",
       "    <tr>\n",
       "      <td>1</td>\n",
       "      <td>Referral</td>\n",
       "      <td>2017-10-16</td>\n",
       "      <td>8934116514970143966</td>\n",
       "      <td>1508176307</td>\n",
       "      <td>6</td>\n",
       "      <td>1508176307</td>\n",
       "      <td>Chrome</td>\n",
       "      <td>Chrome OS</td>\n",
       "      <td>False</td>\n",
       "      <td>desktop</td>\n",
       "      <td>...</td>\n",
       "      <td>2</td>\n",
       "      <td>NaN</td>\n",
       "      <td>(not set)</td>\n",
       "      <td>sites.google.com</td>\n",
       "      <td>referral</td>\n",
       "      <td>0</td>\n",
       "      <td>16</td>\n",
       "      <td>10</td>\n",
       "      <td>2017</td>\n",
       "      <td>13</td>\n",
       "    </tr>\n",
       "    <tr>\n",
       "      <td>2</td>\n",
       "      <td>Direct</td>\n",
       "      <td>2017-10-16</td>\n",
       "      <td>7992466427990357681</td>\n",
       "      <td>1508201613</td>\n",
       "      <td>1</td>\n",
       "      <td>1508201613</td>\n",
       "      <td>Chrome</td>\n",
       "      <td>Android</td>\n",
       "      <td>True</td>\n",
       "      <td>mobile</td>\n",
       "      <td>...</td>\n",
       "      <td>2</td>\n",
       "      <td>NaN</td>\n",
       "      <td>(not set)</td>\n",
       "      <td>(direct)</td>\n",
       "      <td>(none)</td>\n",
       "      <td>0</td>\n",
       "      <td>16</td>\n",
       "      <td>10</td>\n",
       "      <td>2017</td>\n",
       "      <td>20</td>\n",
       "    </tr>\n",
       "    <tr>\n",
       "      <td>3</td>\n",
       "      <td>Organic Search</td>\n",
       "      <td>2017-10-16</td>\n",
       "      <td>9075655783635761930</td>\n",
       "      <td>1508169851</td>\n",
       "      <td>1</td>\n",
       "      <td>1508169851</td>\n",
       "      <td>Chrome</td>\n",
       "      <td>Windows</td>\n",
       "      <td>False</td>\n",
       "      <td>desktop</td>\n",
       "      <td>...</td>\n",
       "      <td>2</td>\n",
       "      <td>NaN</td>\n",
       "      <td>(not set)</td>\n",
       "      <td>google</td>\n",
       "      <td>organic</td>\n",
       "      <td>0</td>\n",
       "      <td>16</td>\n",
       "      <td>10</td>\n",
       "      <td>2017</td>\n",
       "      <td>12</td>\n",
       "    </tr>\n",
       "    <tr>\n",
       "      <td>4</td>\n",
       "      <td>Organic Search</td>\n",
       "      <td>2017-10-16</td>\n",
       "      <td>6960673291025684308</td>\n",
       "      <td>1508190552</td>\n",
       "      <td>1</td>\n",
       "      <td>1508190552</td>\n",
       "      <td>Chrome</td>\n",
       "      <td>Windows</td>\n",
       "      <td>False</td>\n",
       "      <td>desktop</td>\n",
       "      <td>...</td>\n",
       "      <td>2</td>\n",
       "      <td>NaN</td>\n",
       "      <td>(not set)</td>\n",
       "      <td>google</td>\n",
       "      <td>organic</td>\n",
       "      <td>0</td>\n",
       "      <td>16</td>\n",
       "      <td>10</td>\n",
       "      <td>2017</td>\n",
       "      <td>17</td>\n",
       "    </tr>\n",
       "  </tbody>\n",
       "</table>\n",
       "<p>5 rows × 28 columns</p>\n",
       "</div>"
      ],
      "text/plain": [
       "  channelGrouping       date        fullVisitorId     visitId  visitNumber  \\\n",
       "0  Organic Search 2017-10-16  3162355547410993243  1508198450            1   \n",
       "1        Referral 2017-10-16  8934116514970143966  1508176307            6   \n",
       "2          Direct 2017-10-16  7992466427990357681  1508201613            1   \n",
       "3  Organic Search 2017-10-16  9075655783635761930  1508169851            1   \n",
       "4  Organic Search 2017-10-16  6960673291025684308  1508190552            1   \n",
       "\n",
       "   visitStartTime device.browser device.operatingSystem  device.isMobile  \\\n",
       "0      1508198450        Firefox                Windows            False   \n",
       "1      1508176307         Chrome              Chrome OS            False   \n",
       "2      1508201613         Chrome                Android             True   \n",
       "3      1508169851         Chrome                Windows            False   \n",
       "4      1508190552         Chrome                Windows            False   \n",
       "\n",
       "  device.deviceCategory  ... totals.pageviews totals.transactionRevenue  \\\n",
       "0               desktop  ...                1                       NaN   \n",
       "1               desktop  ...                2                       NaN   \n",
       "2                mobile  ...                2                       NaN   \n",
       "3               desktop  ...                2                       NaN   \n",
       "4               desktop  ...                2                       NaN   \n",
       "\n",
       "  trafficSource.campaign trafficSource.source trafficSource.medium weekday  \\\n",
       "0              (not set)               google              organic       0   \n",
       "1              (not set)     sites.google.com             referral       0   \n",
       "2              (not set)             (direct)               (none)       0   \n",
       "3              (not set)               google              organic       0   \n",
       "4              (not set)               google              organic       0   \n",
       "\n",
       "  day month  year visitHour  \n",
       "0  16    10  2017        20  \n",
       "1  16    10  2017        13  \n",
       "2  16    10  2017        20  \n",
       "3  16    10  2017        12  \n",
       "4  16    10  2017        17  \n",
       "\n",
       "[5 rows x 28 columns]"
      ]
     },
     "execution_count": 23,
     "metadata": {},
     "output_type": "execute_result"
    }
   ],
   "source": [
    "dataNew2.head(5)"
   ]
  },
  {
   "cell_type": "code",
   "execution_count": 25,
   "metadata": {},
   "outputs": [
    {
     "name": "stdout",
     "output_type": "stream",
     "text": [
      "<class 'pandas.core.frame.DataFrame'>\n",
      "RangeIndex: 1708337 entries, 0 to 1708336\n",
      "Data columns (total 28 columns):\n",
      "channelGrouping              object\n",
      "date                         datetime64[ns]\n",
      "fullVisitorId                object\n",
      "visitId                      int64\n",
      "visitNumber                  int64\n",
      "visitStartTime               int64\n",
      "device.browser               object\n",
      "device.operatingSystem       object\n",
      "device.isMobile              bool\n",
      "device.deviceCategory        object\n",
      "geoNetwork.continent         object\n",
      "geoNetwork.subContinent      object\n",
      "geoNetwork.country           object\n",
      "geoNetwork.region            object\n",
      "geoNetwork.metro             object\n",
      "geoNetwork.city              object\n",
      "geoNetwork.networkDomain     object\n",
      "totals.hits                  object\n",
      "totals.pageviews             object\n",
      "totals.transactionRevenue    object\n",
      "trafficSource.campaign       object\n",
      "trafficSource.source         object\n",
      "trafficSource.medium         object\n",
      "weekday                      int64\n",
      "day                          int64\n",
      "month                        int64\n",
      "year                         int64\n",
      "visitHour                    int64\n",
      "dtypes: bool(1), datetime64[ns](1), int64(8), object(18)\n",
      "memory usage: 353.5+ MB\n"
     ]
    }
   ],
   "source": [
    "dataNew2.info()"
   ]
  },
  {
   "cell_type": "markdown",
   "metadata": {},
   "source": [
    "### Convert the str in totals.* columns to the proper format."
   ]
  },
  {
   "cell_type": "code",
   "execution_count": 26,
   "metadata": {},
   "outputs": [],
   "source": [
    "dataNew2[\"totals.transactionRevenue\"] = dataNew2[\"totals.transactionRevenue\"].astype('float')\n",
    "dataNew2[\"totals.hits\"] = dataNew2[\"totals.hits\"].astype('float')\n",
    "dataNew2[\"totals.pageviews\"] = dataNew2[\"totals.pageviews\"].astype('float')\n",
    "#convert the datetype of revenue to float format"
   ]
  },
  {
   "cell_type": "code",
   "execution_count": 27,
   "metadata": {},
   "outputs": [
    {
     "data": {
      "text/plain": [
       "0"
      ]
     },
     "execution_count": 27,
     "metadata": {},
     "output_type": "execute_result"
    }
   ],
   "source": [
    "dataNew2[\"totals.transactionRevenue\"].fillna(0, inplace=True) # fill all the rows with N/A in transctions with 0\n",
    "dataNew2[\"totals.transactionRevenue\"].isna().sum() # Now, it should have 0 N/A value"
   ]
  },
  {
   "cell_type": "code",
   "execution_count": 28,
   "metadata": {},
   "outputs": [
    {
     "data": {
      "text/plain": [
       "0"
      ]
     },
     "execution_count": 28,
     "metadata": {},
     "output_type": "execute_result"
    }
   ],
   "source": [
    "dataNew2[\"totals.hits\"].isna().sum()# check N/A value in total.hits"
   ]
  },
  {
   "cell_type": "code",
   "execution_count": 29,
   "metadata": {},
   "outputs": [
    {
     "data": {
      "text/plain": [
       "0"
      ]
     },
     "execution_count": 29,
     "metadata": {},
     "output_type": "execute_result"
    }
   ],
   "source": [
    "dataNew2[\"totals.pageviews\"].fillna(0, inplace=True)# fill all the rows with N/A in transctions with 0\n",
    "dataNew2[\"totals.pageviews\"].isna().sum()# Now, it should have 0 N/A value"
   ]
  },
  {
   "cell_type": "code",
   "execution_count": 30,
   "metadata": {},
   "outputs": [],
   "source": [
    "# dataNew2.to_csv('data_clean.csv', index=False)"
   ]
  },
  {
   "cell_type": "markdown",
   "metadata": {},
   "source": [
    "## EDA"
   ]
  },
  {
   "cell_type": "markdown",
   "metadata": {},
   "source": [
    "### Create Spark Dataframe"
   ]
  },
  {
   "cell_type": "code",
   "execution_count": 8,
   "metadata": {},
   "outputs": [],
   "source": [
    "sparkDF = spark.read\\\n",
    "    .format('csv')\\\n",
    "    .option('header', 'true')\\\n",
    "    .option('inferSchema', 'true')\\\n",
    "    .load('s3://largedataset-project/data_clean.csv')"
   ]
  },
  {
   "cell_type": "code",
   "execution_count": 9,
   "metadata": {},
   "outputs": [
    {
     "name": "stdout",
     "output_type": "stream",
     "text": [
      "root\n",
      " |-- channelGrouping: string (nullable = true)\n",
      " |-- date: timestamp (nullable = true)\n",
      " |-- fullVisitorId: decimal(20,0) (nullable = true)\n",
      " |-- visitId: integer (nullable = true)\n",
      " |-- visitNumber: integer (nullable = true)\n",
      " |-- visitStartTime: integer (nullable = true)\n",
      " |-- device.browser: string (nullable = true)\n",
      " |-- device.operatingSystem: string (nullable = true)\n",
      " |-- device.isMobile: boolean (nullable = true)\n",
      " |-- device.deviceCategory: string (nullable = true)\n",
      " |-- geoNetwork.continent: string (nullable = true)\n",
      " |-- geoNetwork.subContinent: string (nullable = true)\n",
      " |-- geoNetwork.country: string (nullable = true)\n",
      " |-- geoNetwork.region: string (nullable = true)\n",
      " |-- geoNetwork.metro: string (nullable = true)\n",
      " |-- geoNetwork.city: string (nullable = true)\n",
      " |-- geoNetwork.networkDomain: string (nullable = true)\n",
      " |-- totals.hits: double (nullable = true)\n",
      " |-- totals.pageviews: double (nullable = true)\n",
      " |-- totals.transactionRevenue: double (nullable = true)\n",
      " |-- trafficSource.campaign: string (nullable = true)\n",
      " |-- trafficSource.source: string (nullable = true)\n",
      " |-- trafficSource.medium: string (nullable = true)\n",
      " |-- weekday: integer (nullable = true)\n",
      " |-- day: integer (nullable = true)\n",
      " |-- month: integer (nullable = true)\n",
      " |-- year: integer (nullable = true)\n",
      " |-- visitHour: integer (nullable = true)\n",
      "\n"
     ]
    }
   ],
   "source": [
    "sparkDF.printSchema()"
   ]
  },
  {
   "cell_type": "code",
   "execution_count": 10,
   "metadata": {},
   "outputs": [
    {
     "data": {
      "text/plain": [
       "DataFrame[channelGrouping: string, date: timestamp, fullVisitorId: decimal(20,0), visitId: int, visitNumber: int, visitStartTime: int, device.browser: string, device.operatingSystem: string, device.isMobile: boolean, device.deviceCategory: string, geoNetwork.continent: string, geoNetwork.subContinent: string, geoNetwork.country: string, geoNetwork.region: string, geoNetwork.metro: string, geoNetwork.city: string, geoNetwork.networkDomain: string, totals.hits: double, totals.pageviews: double, totals.transactionRevenue: double, trafficSource.campaign: string, trafficSource.source: string, trafficSource.medium: string, weekday: int, day: int, month: int, year: int, visitHour: int]"
      ]
     },
     "execution_count": 10,
     "metadata": {},
     "output_type": "execute_result"
    }
   ],
   "source": [
    "sparkDF.cache()"
   ]
  },
  {
   "cell_type": "code",
   "execution_count": 11,
   "metadata": {},
   "outputs": [],
   "source": [
    "sparkDF.createOrReplaceTempView('viewDF')"
   ]
  },
  {
   "cell_type": "markdown",
   "metadata": {},
   "source": [
    "### Visit Counts"
   ]
  },
  {
   "cell_type": "code",
   "execution_count": 31,
   "metadata": {},
   "outputs": [
    {
     "data": {
      "image/png": "[encoded data removed]",
      "text/plain": [
       "<Figure size 648x432 with 1 Axes>"
      ]
     },
     "metadata": {
      "needs_background": "light"
     },
     "output_type": "display_data"
    }
   ],
   "source": [
    "# seting the graph size\n",
    "plt.figure(figsize=(9,6))\n",
    "browser_order = dataNew2[\"device.browser\"].value_counts()[:5].sort_values(ascending=False).index\n",
    "\n",
    "# let explore the browser used by users\n",
    "sns.countplot(dataNew2[\"device.browser\"], order=browser_order, palette='BuGn_r')\n",
    "plt.title(\"Top 5 Device Browser Count\", fontsize=20) # seting the title size\n",
    "plt.xlabel(\"Device Browser Name\", fontsize=18) # seting the x label size\n",
    "plt.ylabel(\"Count\", fontsize=18) # seting the y label size\n",
    "\n",
    "plt.show()"
   ]
  },
  {
   "cell_type": "code",
   "execution_count": 12,
   "metadata": {},
   "outputs": [
    {
     "name": "stdout",
     "output_type": "stream",
     "text": [
      "+-----------------+-------+\n",
      "|   device.browser|  Count|\n",
      "+-----------------+-------+\n",
      "|           Chrome|1173056|\n",
      "|           Safari| 312165|\n",
      "|          Firefox|  63845|\n",
      "|Internet Explorer|  35474|\n",
      "|  Android Webview|  34266|\n",
      "+-----------------+-------+\n",
      "\n"
     ]
    }
   ],
   "source": [
    "# Top 5 Device Browser Count\n",
    "spark.sql(\"\"\"SELECT `device.browser`, COUNT(`device.browser`) AS Count \\\n",
    "            FROM viewDF \\\n",
    "            GROUP BY `device.browser` \\\n",
    "            ORDER BY COUNT(`device.browser`) DESC \\\n",
    "            LIMIT 5\"\"\").show()"
   ]
  },
  {
   "cell_type": "markdown",
   "metadata": {},
   "source": [
    "The top 5 browsers are Chrome, Safari, Firefox, Internet Explorer, and Android Webview"
   ]
  },
  {
   "cell_type": "code",
   "execution_count": 32,
   "metadata": {},
   "outputs": [
    {
     "data": {
      "image/png": "[encoded data removed]",
      "text/plain": [
       "<Figure size 648x432 with 1 Axes>"
      ]
     },
     "metadata": {
      "needs_background": "light"
     },
     "output_type": "display_data"
    }
   ],
   "source": [
    "# seting the graph size\n",
    "plt.figure(figsize=(9,6))\n",
    "channel_order = dataNew2[\"channelGrouping\"].value_counts().sort_values(ascending=False).index\n",
    "\n",
    "sns.countplot(dataNew2[\"channelGrouping\"], order=channel_order, palette='BuGn_r')\n",
    "#Paired, Set2, hls\n",
    "plt.title(\"Channel Grouping Count\", fontsize=20) # seting the title size\n",
    "plt.xlabel(\"Channel Grouping Name\", fontsize=18) # seting the x label size\n",
    "plt.ylabel(\"Count\", fontsize=18) # seting the y label size\n",
    "\n",
    "plt.show()"
   ]
  },
  {
   "cell_type": "code",
   "execution_count": 13,
   "metadata": {},
   "outputs": [
    {
     "name": "stdout",
     "output_type": "stream",
     "text": [
      "+---------------+------+\n",
      "|channelGrouping| Count|\n",
      "+---------------+------+\n",
      "| Organic Search|738963|\n",
      "|         Social|354971|\n",
      "|         Direct|273134|\n",
      "|       Referral|211307|\n",
      "|        Display| 51283|\n",
      "|    Paid Search| 45627|\n",
      "|     Affiliates| 32915|\n",
      "|        (Other)|   137|\n",
      "+---------------+------+\n",
      "\n"
     ]
    }
   ],
   "source": [
    "#Channel Grouping Count\n",
    "spark.sql(\"\"\" SELECT channelGrouping, COUNT(channelGrouping) AS Count \n",
    "          FROM viewDF \n",
    "          GROUP BY channelGrouping \n",
    "          ORDER BY COUNT(channelGrouping) DESC \"\"\").show()"
   ]
  },
  {
   "cell_type": "markdown",
   "metadata": {},
   "source": [
    "After counting the channel, we can see user used the Organic Search the most. Next are Social, Direct, and Referral."
   ]
  },
  {
   "cell_type": "code",
   "execution_count": 33,
   "metadata": {},
   "outputs": [
    {
     "data": {
      "image/png": "[encoded data removed]",
      "text/plain": [
       "<Figure size 648x432 with 1 Axes>"
      ]
     },
     "metadata": {
      "needs_background": "light"
     },
     "output_type": "display_data"
    }
   ],
   "source": [
    "# Top 6 Operating System Count\n",
    "plt.figure(figsize=(9,6))\n",
    "operatingSystem_order = dataNew2[\"device.operatingSystem\"].value_counts()[:6].sort_values(ascending=False).index\n",
    "\n",
    "sns.countplot(dataNew2[\"device.operatingSystem\"], order=operatingSystem_order, palette='BuGn_r')\n",
    "plt.title(\"Top 6 Operating System Count\", fontsize=20) # seting the title size\n",
    "plt.xlabel(\"Operating System Name\", fontsize=18) # seting the x label size\n",
    "plt.ylabel(\"Count\", fontsize=18) # seting the y label size\n",
    "\n",
    "plt.show()"
   ]
  },
  {
   "cell_type": "code",
   "execution_count": 14,
   "metadata": {},
   "outputs": [
    {
     "name": "stdout",
     "output_type": "stream",
     "text": [
      "+----------------------+------+\n",
      "|device.operatingSystem| Count|\n",
      "+----------------------+------+\n",
      "|               Windows|619720|\n",
      "|             Macintosh|438514|\n",
      "|               Android|299386|\n",
      "|                   iOS|219334|\n",
      "|                 Linux| 63971|\n",
      "|             Chrome OS| 51318|\n",
      "+----------------------+------+\n",
      "\n"
     ]
    }
   ],
   "source": [
    "# Top 6 Operating System Count\n",
    "spark.sql(\"\"\"SELECT `device.operatingSystem`, COUNT(`device.operatingSystem`) AS Count \\\n",
    "            FROM viewDF \\\n",
    "            GROUP BY `device.operatingSystem` \\\n",
    "            ORDER BY COUNT(`device.operatingSystem`) DESC \\\n",
    "            LIMIT 6\"\"\").show()"
   ]
  },
  {
   "cell_type": "markdown",
   "metadata": {},
   "source": [
    "Top 6 operating systems are Windows, Macintosh, Android, iOS, Linux, Chrome OS"
   ]
  },
  {
   "cell_type": "code",
   "execution_count": 34,
   "metadata": {},
   "outputs": [
    {
     "data": {
      "image/png": "[encoded data removed]",
      "text/plain": [
       "<Figure size 648x432 with 1 Axes>"
      ]
     },
     "metadata": {
      "needs_background": "light"
     },
     "output_type": "display_data"
    }
   ],
   "source": [
    "# Top 10 Country Count\n",
    "plt.figure(figsize=(9,6))\n",
    "country_order = dataNew2[\"geoNetwork.country\"].value_counts()[:10].sort_values(ascending=False).index\n",
    "\n",
    "sns.countplot(dataNew2[\"geoNetwork.country\"], order=country_order, palette='BuGn_r')\n",
    "plt.title(\"Top 10 Country Count\", fontsize=20) # seting the title size\n",
    "plt.xlabel(\"Country Name\", fontsize=16) # seting the x label size\n",
    "plt.xticks(rotation=45)\n",
    "plt.ylabel(\"Count\", fontsize=18) # seting the y label size\n",
    "\n",
    "plt.show()"
   ]
  },
  {
   "cell_type": "code",
   "execution_count": 15,
   "metadata": {},
   "outputs": [
    {
     "name": "stdout",
     "output_type": "stream",
     "text": [
      "+------------------+------+\n",
      "|geoNetwork.country| Count|\n",
      "+------------------+------+\n",
      "|     United States|717217|\n",
      "|             India|105317|\n",
      "|    United Kingdom| 73341|\n",
      "|            Canada| 51057|\n",
      "|           Germany| 38516|\n",
      "|             Japan| 36637|\n",
      "|            Brazil| 35432|\n",
      "|           Vietnam| 34869|\n",
      "|            France| 32289|\n",
      "|          Thailand| 29859|\n",
      "+------------------+------+\n",
      "\n"
     ]
    }
   ],
   "source": [
    "# Top 10 Country Count\n",
    "spark.sql(\"\"\"SELECT `geoNetwork.country`, COUNT(`geoNetwork.country`) AS Count \\\n",
    "            FROM viewDF \\\n",
    "            GROUP BY `geoNetwork.country` \\\n",
    "            ORDER BY COUNT(`geoNetwork.country`) DESC\\\n",
    "            LIMIT 10\"\"\").show()"
   ]
  },
  {
   "cell_type": "markdown",
   "metadata": {},
   "source": [
    "Top 10 countries that users come from are United States, India, United Kingdom, Canada, Vietnam, Turkey, Thailand, Germany, Brazil, and Japan"
   ]
  },
  {
   "cell_type": "code",
   "execution_count": 35,
   "metadata": {},
   "outputs": [
    {
     "data": {
      "image/png": "[encoded data removed]",
      "text/plain": [
       "<Figure size 648x432 with 1 Axes>"
      ]
     },
     "metadata": {
      "needs_background": "light"
     },
     "output_type": "display_data"
    }
   ],
   "source": [
    "# Weekday Visits Count\n",
    "plt.figure(figsize=(9,6))\n",
    "\n",
    "sns.countplot(dataNew2[\"weekday\"], palette='BuGn_r')\n",
    "plt.title(\"Weekday Visits Count\", fontsize=20) # seting the title size\n",
    "plt.xlabel(\"Weekday\", fontsize=18) # seting the x label size\n",
    "plt.ylabel(\"Count\", fontsize=18) # seting the y label size\n",
    "\n",
    "plt.show()"
   ]
  },
  {
   "cell_type": "code",
   "execution_count": 16,
   "metadata": {},
   "outputs": [
    {
     "name": "stdout",
     "output_type": "stream",
     "text": [
      "+-------+------+\n",
      "|weekday| Count|\n",
      "+-------+------+\n",
      "|      0|264168|\n",
      "|      1|279675|\n",
      "|      2|281701|\n",
      "|      3|268463|\n",
      "|      4|239216|\n",
      "|      5|183999|\n",
      "|      6|191115|\n",
      "+-------+------+\n",
      "\n"
     ]
    }
   ],
   "source": [
    "# Weekday Visits Count\n",
    "spark.sql(\"\"\"SELECT weekday, COUNT(weekday) AS Count \\\n",
    "            FROM viewDF \\\n",
    "            GROUP BY weekday \\\n",
    "            ORDER BY weekday\\\n",
    "            LIMIT 7\"\"\").show()"
   ]
  },
  {
   "cell_type": "markdown",
   "metadata": {},
   "source": [
    "Monday, Tuesday,  Wednesday are top 3 weekdays that have the most vist. Surprisingly, weekends contributed the least visits. "
   ]
  },
  {
   "cell_type": "code",
   "execution_count": 36,
   "metadata": {},
   "outputs": [
    {
     "data": {
      "image/png": "[encoded data removed]",
      "text/plain": [
       "<Figure size 648x432 with 1 Axes>"
      ]
     },
     "metadata": {
      "needs_background": "light"
     },
     "output_type": "display_data"
    }
   ],
   "source": [
    "#Monthly Visits Count\n",
    "plt.figure(figsize=(9,6))\n",
    "\n",
    "sns.countplot(dataNew2[\"month\"], palette='BuGn_r')\n",
    "plt.title(\"Monthly Visits Count\", fontsize=20) # seting the title size\n",
    "plt.xlabel(\"Month\", fontsize=18) # seting the x label size\n",
    "plt.ylabel(\"Count\", fontsize=18) # seting the y label size\n",
    "\n",
    "plt.show()"
   ]
  },
  {
   "cell_type": "code",
   "execution_count": 17,
   "metadata": {},
   "outputs": [
    {
     "name": "stdout",
     "output_type": "stream",
     "text": [
      "+-----+------+\n",
      "|month| Count|\n",
      "+-----+------+\n",
      "|    1|148084|\n",
      "|    2|145196|\n",
      "|    3|164020|\n",
      "|    4|149727|\n",
      "|    5| 65371|\n",
      "|    6| 63578|\n",
      "|    7| 71812|\n",
      "|    8|159561|\n",
      "|    9|158307|\n",
      "|   10|198792|\n",
      "|   11|207661|\n",
      "|   12|176228|\n",
      "+-----+------+\n",
      "\n"
     ]
    }
   ],
   "source": [
    "# Monthly Visits Count\n",
    "spark.sql(\"\"\"SELECT month, COUNT(month) AS Count \\\n",
    "            FROM viewDF \\\n",
    "            GROUP BY month \\\n",
    "            ORDER BY month\\\n",
    "            LIMIT 12\"\"\").show()"
   ]
  },
  {
   "cell_type": "markdown",
   "metadata": {},
   "source": [
    "October and November have the most visits, while May, June, and July have the least."
   ]
  },
  {
   "cell_type": "markdown",
   "metadata": {},
   "source": [
    "### Transactions"
   ]
  },
  {
   "cell_type": "code",
   "execution_count": 37,
   "metadata": {},
   "outputs": [
    {
     "data": {
      "text/plain": [
       "18514"
      ]
     },
     "execution_count": 37,
     "metadata": {},
     "output_type": "execute_result"
    }
   ],
   "source": [
    "# Find number of rows that totals.transactionRevenue is nonzero\n",
    "np.count_nonzero(dataNew2[\"totals.transactionRevenue\"])"
   ]
  },
  {
   "cell_type": "code",
   "execution_count": 38,
   "metadata": {},
   "outputs": [
    {
     "name": "stdout",
     "output_type": "stream",
     "text": [
      "The number of non-zero transaction is 18514 \n",
      "The ratio is 0.010837440153786987\n"
     ]
    }
   ],
   "source": [
    "# Find the ratio of nonzero rows above the entire dataset\n",
    "nz_revenue= np.count_nonzero(dataNew2[\"totals.transactionRevenue\"])\n",
    "print(f\"The number of non-zero transaction is {nz_revenue} \\nThe ratio is {nz_revenue/dataNew2.shape[0]}\")"
   ]
  },
  {
   "cell_type": "code",
   "execution_count": 39,
   "metadata": {},
   "outputs": [
    {
     "data": {
      "text/html": [
       "<div>\n",
       "<style scoped>\n",
       "    .dataframe tbody tr th:only-of-type {\n",
       "        vertical-align: middle;\n",
       "    }\n",
       "\n",
       "    .dataframe tbody tr th {\n",
       "        vertical-align: top;\n",
       "    }\n",
       "\n",
       "    .dataframe thead th {\n",
       "        text-align: right;\n",
       "    }\n",
       "</style>\n",
       "<table border=\"1\" class=\"dataframe\">\n",
       "  <thead>\n",
       "    <tr style=\"text-align: right;\">\n",
       "      <th></th>\n",
       "      <th>channelGrouping</th>\n",
       "      <th>date</th>\n",
       "      <th>fullVisitorId</th>\n",
       "      <th>visitId</th>\n",
       "      <th>visitNumber</th>\n",
       "      <th>visitStartTime</th>\n",
       "      <th>device.browser</th>\n",
       "      <th>device.operatingSystem</th>\n",
       "      <th>device.isMobile</th>\n",
       "      <th>device.deviceCategory</th>\n",
       "      <th>...</th>\n",
       "      <th>totals.pageviews</th>\n",
       "      <th>totals.transactionRevenue</th>\n",
       "      <th>trafficSource.campaign</th>\n",
       "      <th>trafficSource.source</th>\n",
       "      <th>trafficSource.medium</th>\n",
       "      <th>weekday</th>\n",
       "      <th>day</th>\n",
       "      <th>month</th>\n",
       "      <th>year</th>\n",
       "      <th>visitHour</th>\n",
       "    </tr>\n",
       "  </thead>\n",
       "  <tbody>\n",
       "    <tr>\n",
       "      <td>433</td>\n",
       "      <td>Organic Search</td>\n",
       "      <td>2017-10-16</td>\n",
       "      <td>9549826748224805897</td>\n",
       "      <td>1508200705</td>\n",
       "      <td>4</td>\n",
       "      <td>1508200705</td>\n",
       "      <td>Chrome</td>\n",
       "      <td>Macintosh</td>\n",
       "      <td>False</td>\n",
       "      <td>desktop</td>\n",
       "      <td>...</td>\n",
       "      <td>9.0</td>\n",
       "      <td>15190000.0</td>\n",
       "      <td>(not set)</td>\n",
       "      <td>google</td>\n",
       "      <td>organic</td>\n",
       "      <td>0</td>\n",
       "      <td>16</td>\n",
       "      <td>10</td>\n",
       "      <td>2017</td>\n",
       "      <td>20</td>\n",
       "    </tr>\n",
       "    <tr>\n",
       "      <td>550</td>\n",
       "      <td>Referral</td>\n",
       "      <td>2017-10-16</td>\n",
       "      <td>3700714855829972615</td>\n",
       "      <td>1508192636</td>\n",
       "      <td>11</td>\n",
       "      <td>1508192636</td>\n",
       "      <td>Chrome</td>\n",
       "      <td>Windows</td>\n",
       "      <td>False</td>\n",
       "      <td>desktop</td>\n",
       "      <td>...</td>\n",
       "      <td>12.0</td>\n",
       "      <td>8000000.0</td>\n",
       "      <td>(not set)</td>\n",
       "      <td>(direct)</td>\n",
       "      <td>(none)</td>\n",
       "      <td>0</td>\n",
       "      <td>16</td>\n",
       "      <td>10</td>\n",
       "      <td>2017</td>\n",
       "      <td>18</td>\n",
       "    </tr>\n",
       "    <tr>\n",
       "      <td>555</td>\n",
       "      <td>Organic Search</td>\n",
       "      <td>2017-10-16</td>\n",
       "      <td>1572225825161580042</td>\n",
       "      <td>1508162218</td>\n",
       "      <td>6</td>\n",
       "      <td>1508162218</td>\n",
       "      <td>Safari</td>\n",
       "      <td>iOS</td>\n",
       "      <td>True</td>\n",
       "      <td>mobile</td>\n",
       "      <td>...</td>\n",
       "      <td>15.0</td>\n",
       "      <td>57300000.0</td>\n",
       "      <td>(not set)</td>\n",
       "      <td>google</td>\n",
       "      <td>organic</td>\n",
       "      <td>0</td>\n",
       "      <td>16</td>\n",
       "      <td>10</td>\n",
       "      <td>2017</td>\n",
       "      <td>9</td>\n",
       "    </tr>\n",
       "    <tr>\n",
       "      <td>597</td>\n",
       "      <td>Referral</td>\n",
       "      <td>2017-10-16</td>\n",
       "      <td>7187192533100162289</td>\n",
       "      <td>1508189401</td>\n",
       "      <td>17</td>\n",
       "      <td>1508189401</td>\n",
       "      <td>Chrome</td>\n",
       "      <td>Macintosh</td>\n",
       "      <td>False</td>\n",
       "      <td>desktop</td>\n",
       "      <td>...</td>\n",
       "      <td>16.0</td>\n",
       "      <td>18230000.0</td>\n",
       "      <td>(not set)</td>\n",
       "      <td>(direct)</td>\n",
       "      <td>(none)</td>\n",
       "      <td>0</td>\n",
       "      <td>16</td>\n",
       "      <td>10</td>\n",
       "      <td>2017</td>\n",
       "      <td>17</td>\n",
       "    </tr>\n",
       "    <tr>\n",
       "      <td>619</td>\n",
       "      <td>Referral</td>\n",
       "      <td>2017-10-16</td>\n",
       "      <td>7889233516776348524</td>\n",
       "      <td>1508190484</td>\n",
       "      <td>1</td>\n",
       "      <td>1508190484</td>\n",
       "      <td>Chrome</td>\n",
       "      <td>Macintosh</td>\n",
       "      <td>False</td>\n",
       "      <td>desktop</td>\n",
       "      <td>...</td>\n",
       "      <td>20.0</td>\n",
       "      <td>12310000.0</td>\n",
       "      <td>(not set)</td>\n",
       "      <td>(direct)</td>\n",
       "      <td>(none)</td>\n",
       "      <td>0</td>\n",
       "      <td>16</td>\n",
       "      <td>10</td>\n",
       "      <td>2017</td>\n",
       "      <td>17</td>\n",
       "    </tr>\n",
       "  </tbody>\n",
       "</table>\n",
       "<p>5 rows × 28 columns</p>\n",
       "</div>"
      ],
      "text/plain": [
       "    channelGrouping       date        fullVisitorId     visitId  visitNumber  \\\n",
       "433  Organic Search 2017-10-16  9549826748224805897  1508200705            4   \n",
       "550        Referral 2017-10-16  3700714855829972615  1508192636           11   \n",
       "555  Organic Search 2017-10-16  1572225825161580042  1508162218            6   \n",
       "597        Referral 2017-10-16  7187192533100162289  1508189401           17   \n",
       "619        Referral 2017-10-16  7889233516776348524  1508190484            1   \n",
       "\n",
       "     visitStartTime device.browser device.operatingSystem  device.isMobile  \\\n",
       "433      1508200705         Chrome              Macintosh            False   \n",
       "550      1508192636         Chrome                Windows            False   \n",
       "555      1508162218         Safari                    iOS             True   \n",
       "597      1508189401         Chrome              Macintosh            False   \n",
       "619      1508190484         Chrome              Macintosh            False   \n",
       "\n",
       "    device.deviceCategory  ... totals.pageviews totals.transactionRevenue  \\\n",
       "433               desktop  ...              9.0                15190000.0   \n",
       "550               desktop  ...             12.0                 8000000.0   \n",
       "555                mobile  ...             15.0                57300000.0   \n",
       "597               desktop  ...             16.0                18230000.0   \n",
       "619               desktop  ...             20.0                12310000.0   \n",
       "\n",
       "    trafficSource.campaign trafficSource.source trafficSource.medium weekday  \\\n",
       "433              (not set)               google              organic       0   \n",
       "550              (not set)             (direct)               (none)       0   \n",
       "555              (not set)               google              organic       0   \n",
       "597              (not set)             (direct)               (none)       0   \n",
       "619              (not set)             (direct)               (none)       0   \n",
       "\n",
       "    day  month  year  visitHour  \n",
       "433  16     10  2017         20  \n",
       "550  16     10  2017         18  \n",
       "555  16     10  2017          9  \n",
       "597  16     10  2017         17  \n",
       "619  16     10  2017         17  \n",
       "\n",
       "[5 rows x 28 columns]"
      ]
     },
     "execution_count": 39,
     "metadata": {},
     "output_type": "execute_result"
    }
   ],
   "source": [
    "nz_revenue_df = dataNew2.loc[dataNew2[\"totals.transactionRevenue\"]>0] #create a new df with only non-zero transactions\n",
    "nz_revenue_df.head(5)"
   ]
  },
  {
   "cell_type": "code",
   "execution_count": 40,
   "metadata": {},
   "outputs": [
    {
     "name": "stdout",
     "output_type": "stream",
     "text": [
      "<class 'pandas.core.frame.DataFrame'>\n",
      "Int64Index: 18514 entries, 433 to 1708001\n",
      "Data columns (total 28 columns):\n",
      "channelGrouping              18514 non-null object\n",
      "date                         18514 non-null datetime64[ns]\n",
      "fullVisitorId                18514 non-null object\n",
      "visitId                      18514 non-null int64\n",
      "visitNumber                  18514 non-null int64\n",
      "visitStartTime               18514 non-null int64\n",
      "device.browser               18514 non-null object\n",
      "device.operatingSystem       18514 non-null object\n",
      "device.isMobile              18514 non-null bool\n",
      "device.deviceCategory        18514 non-null object\n",
      "geoNetwork.continent         18514 non-null object\n",
      "geoNetwork.subContinent      18514 non-null object\n",
      "geoNetwork.country           18514 non-null object\n",
      "geoNetwork.region            18514 non-null object\n",
      "geoNetwork.metro             18514 non-null object\n",
      "geoNetwork.city              18514 non-null object\n",
      "geoNetwork.networkDomain     18514 non-null object\n",
      "totals.hits                  18514 non-null float64\n",
      "totals.pageviews             18514 non-null float64\n",
      "totals.transactionRevenue    18514 non-null float64\n",
      "trafficSource.campaign       18514 non-null object\n",
      "trafficSource.source         18514 non-null object\n",
      "trafficSource.medium         18514 non-null object\n",
      "weekday                      18514 non-null int64\n",
      "day                          18514 non-null int64\n",
      "month                        18514 non-null int64\n",
      "year                         18514 non-null int64\n",
      "visitHour                    18514 non-null int64\n",
      "dtypes: bool(1), datetime64[ns](1), float64(3), int64(8), object(15)\n",
      "memory usage: 4.0+ MB\n"
     ]
    }
   ],
   "source": [
    "nz_revenue_df.info()"
   ]
  },
  {
   "cell_type": "markdown",
   "metadata": {},
   "source": [
    "### Total Hits"
   ]
  },
  {
   "cell_type": "code",
   "execution_count": 41,
   "metadata": {},
   "outputs": [
    {
     "name": "stderr",
     "output_type": "stream",
     "text": [
      "/opt/anaconda3/lib/python3.7/site-packages/pandas/plotting/_matplotlib/converter.py:103: FutureWarning: Using an implicitly registered datetime converter for a matplotlib plotting method. The converter was registered by pandas on import. Future versions of pandas will require you to explicitly register matplotlib converters.\n",
      "\n",
      "To register the converters:\n",
      "\t>>> from pandas.plotting import register_matplotlib_converters\n",
      "\t>>> register_matplotlib_converters()\n",
      "  warnings.warn(msg, FutureWarning)\n"
     ]
    },
    {
     "data": {
      "text/plain": [
       "<function matplotlib.pyplot.show(*args, **kw)>"
      ]
     },
     "execution_count": 41,
     "metadata": {},
     "output_type": "execute_result"
    },
    {
     "data": {
      "image/png": "[encoded data removed]",
      "text/plain": [
       "<Figure size 1080x576 with 1 Axes>"
      ]
     },
     "metadata": {
      "needs_background": "light"
     },
     "output_type": "display_data"
    }
   ],
   "source": [
    "# Daily Hits\n",
    "plt.figure(figsize=(15,8))\n",
    "sns.lineplot(x=\"date\", y=\"totals.hits\", data=dataNew2, ci=None, hue=\"device.deviceCategory\")\n",
    "plt.title(\"Daily Hits - Device\", fontsize=20)\n",
    "plt.xlabel(\"Date\", fontsize=18) \n",
    "plt.ylabel(\"Total Hits\", fontsize=18)\n",
    "plt.show"
   ]
  },
  {
   "cell_type": "code",
   "execution_count": 42,
   "metadata": {},
   "outputs": [
    {
     "data": {
      "text/plain": [
       "<function matplotlib.pyplot.show(*args, **kw)>"
      ]
     },
     "execution_count": 42,
     "metadata": {},
     "output_type": "execute_result"
    },
    {
     "data": {
      "image/png": "[encoded data removed]",
      "text/plain": [
       "<Figure size 1080x576 with 1 Axes>"
      ]
     },
     "metadata": {
      "needs_background": "light"
     },
     "output_type": "display_data"
    }
   ],
   "source": [
    "# Total Hits Across the Date with Nonzero Revenue\n",
    "plt.figure(figsize=(15,8))\n",
    "sns.lineplot(x=\"date\", y=\"totals.hits\", data=nz_revenue_df, ci=None, hue=\"device.deviceCategory\")\n",
    "plt.title(\"Daily Hits With Revenue - Device\", fontsize=20)\n",
    "plt.xlabel(\"Date\", fontsize=18) \n",
    "plt.ylabel(\"Total Hits\", fontsize=18)\n",
    "plt.show"
   ]
  },
  {
   "cell_type": "code",
   "execution_count": 43,
   "metadata": {},
   "outputs": [
    {
     "data": {
      "image/png": "[encoded data removed]",
      "text/plain": [
       "<Figure size 720x504 with 1 Axes>"
      ]
     },
     "metadata": {
      "needs_background": "light"
     },
     "output_type": "display_data"
    }
   ],
   "source": [
    "# Average Yearly Revenue - Device\n",
    "plt.figure(figsize=(10,7))\n",
    "\n",
    "sns.barplot(x=\"year\", y=\"totals.transactionRevenue\", hue=\"device.deviceCategory\", data=dataNew2, palette='BuGn_r', ci=None)\n",
    "plt.title(\"Average Yearly Revenue - Device\", fontsize=20) # seting the title size\n",
    "plt.xlabel(\"Year\", fontsize=18) # seting the x label size\n",
    "plt.ylabel(\"Avg Revenue\", fontsize=18) # seting the y label size\n",
    "\n",
    "plt.show()"
   ]
  },
  {
   "cell_type": "code",
   "execution_count": 18,
   "metadata": {},
   "outputs": [
    {
     "name": "stdout",
     "output_type": "stream",
     "text": [
      "+----+---------------------+----------+\n",
      "|year|device.deviceCategory|AvgRevenue|\n",
      "+----+---------------------+----------+\n",
      "|2016|              desktop|   1830041|\n",
      "|2016|               tablet|    465511|\n",
      "|2016|               mobile|    293851|\n",
      "|2017|              desktop|   2186818|\n",
      "|2017|               tablet|    143851|\n",
      "|2017|               mobile|    141721|\n",
      "|2018|              desktop|   1280623|\n",
      "|2018|               tablet|    118704|\n",
      "|2018|               mobile|    103669|\n",
      "+----+---------------------+----------+\n",
      "\n"
     ]
    }
   ],
   "source": [
    "# Average Yearly Revenue - Device\n",
    "spark.sql(\"\"\"SELECT year, `device.deviceCategory`, FLOOR(AVG(`totals.transactionRevenue`)) as AvgRevenue \\\n",
    "             FROM viewDF \\\n",
    "             GROUP BY `device.deviceCategory`, year\\\n",
    "             ORDER BY year, AVG(`totals.transactionRevenue`) DESC\n",
    "             \"\"\").show()"
   ]
  },
  {
   "cell_type": "code",
   "execution_count": 44,
   "metadata": {},
   "outputs": [
    {
     "data": {
      "image/png": "[encoded data removed]",
      "text/plain": [
       "<Figure size 720x504 with 1 Axes>"
      ]
     },
     "metadata": {
      "needs_background": "light"
     },
     "output_type": "display_data"
    }
   ],
   "source": [
    "# Average Yearly Nonzero Revenue - Device\n",
    "plt.figure(figsize=(10,7))\n",
    "\n",
    "sns.barplot(x=\"year\", y=\"totals.transactionRevenue\", hue=\"device.deviceCategory\", data=nz_revenue_df, palette='BuGn_r', ci=None)\n",
    "plt.title(\"Average Yearly Nonzero Revenue - Device\", fontsize=20) # seting the title size\n",
    "plt.xlabel(\"Year\", fontsize=18) # seting the x label size\n",
    "plt.ylabel(\"Avg Revenue\", fontsize=18) # seting the y label size\n",
    "\n",
    "plt.show()"
   ]
  },
  {
   "cell_type": "code",
   "execution_count": 19,
   "metadata": {},
   "outputs": [
    {
     "name": "stdout",
     "output_type": "stream",
     "text": [
      "+----+---------------------+----------+\n",
      "|year|device.deviceCategory|AvgRevenue|\n",
      "+----+---------------------+----------+\n",
      "|2016|              desktop| 135585123|\n",
      "|2016|               mobile|  62890200|\n",
      "|2016|               tablet|  59070425|\n",
      "|2017|              desktop| 135473402|\n",
      "|2017|               mobile|  51893089|\n",
      "|2017|               tablet|  48277177|\n",
      "|2018|              desktop| 112012600|\n",
      "|2018|               tablet|  52225555|\n",
      "|2018|               mobile|  50354784|\n",
      "+----+---------------------+----------+\n",
      "\n"
     ]
    }
   ],
   "source": [
    "# Average Yearly Nonzero Revenue - Device\n",
    "spark.sql(\"\"\"SELECT year, `device.deviceCategory`, FLOOR(AVG(`totals.transactionRevenue`)) as AvgRevenue \\\n",
    "             FROM viewDF \\\n",
    "             WHERE `totals.transactionRevenue` > 0 \\\n",
    "             GROUP BY `device.deviceCategory`, year \\\n",
    "             ORDER BY year, AvgRevenue DESC\n",
    "             \"\"\").show()"
   ]
  },
  {
   "cell_type": "code",
   "execution_count": 46,
   "metadata": {},
   "outputs": [
    {
     "data": {
      "image/png": "[encoded data removed]",
      "text/plain": [
       "<Figure size 720x504 with 1 Axes>"
      ]
     },
     "metadata": {
      "needs_background": "light"
     },
     "output_type": "display_data"
    }
   ],
   "source": [
    "#Average Monthly Revenue\n",
    "plt.figure(figsize=(10,7))\n",
    "\n",
    "sns.barplot(x=\"month\", y=\"totals.transactionRevenue\", data=dataNew2, palette='BuGn_r', ci=None)\n",
    "plt.title(\"Average Monthly Revenue\", fontsize=20) # seting the title size\n",
    "plt.xlabel(\"Month\", fontsize=18) # seting the x label size\n",
    "plt.ylabel(\"Avg Revenue\", fontsize=18) # seting the y label size\n",
    "\n",
    "plt.show()"
   ]
  },
  {
   "cell_type": "code",
   "execution_count": 20,
   "metadata": {},
   "outputs": [
    {
     "name": "stdout",
     "output_type": "stream",
     "text": [
      "+-----+----------+\n",
      "|month|AvgRevenue|\n",
      "+-----+----------+\n",
      "|    8|   1947741|\n",
      "|    6|   1912131|\n",
      "|    5|   1861857|\n",
      "|    7|   1733683|\n",
      "|    4|   1591049|\n",
      "|    9|   1449312|\n",
      "|    3|   1343003|\n",
      "|   12|   1309044|\n",
      "|    2|   1196653|\n",
      "|    1|   1149448|\n",
      "|   10|    960168|\n",
      "|   11|    887571|\n",
      "+-----+----------+\n",
      "\n"
     ]
    }
   ],
   "source": [
    "# Average Monthly Revenue\n",
    "spark.sql(\"\"\"SELECT month, FLOOR(AVG(`totals.transactionRevenue`)) as AvgRevenue \\\n",
    "             FROM viewDF \\\n",
    "             GROUP BY month \\\n",
    "             ORDER BY AVG(`totals.transactionRevenue`) DESC \"\"\").show()"
   ]
  },
  {
   "cell_type": "code",
   "execution_count": 47,
   "metadata": {},
   "outputs": [
    {
     "data": {
      "image/png": "[encoded data removed]",
      "text/plain": [
       "<Figure size 720x504 with 1 Axes>"
      ]
     },
     "metadata": {
      "needs_background": "light"
     },
     "output_type": "display_data"
    }
   ],
   "source": [
    "# Average Monthly Nonzero Revenue\n",
    "plt.figure(figsize=(10,7))\n",
    "\n",
    "sns.barplot(x=\"month\", y=\"totals.transactionRevenue\", data=nz_revenue_df, palette='BuGn_r', ci=None)\n",
    "plt.title(\"Average Monthly Nonzero Revenue\", fontsize=20) # seting the title size\n",
    "plt.xlabel(\"Month\", fontsize=18) # seting the x label size\n",
    "plt.ylabel(\"Avg Revenue\", fontsize=18) # seting the y label size\n",
    "\n",
    "plt.show()"
   ]
  },
  {
   "cell_type": "code",
   "execution_count": 21,
   "metadata": {},
   "outputs": [
    {
     "name": "stdout",
     "output_type": "stream",
     "text": [
      "+-----+----------+\n",
      "|month|AvgRevenue|\n",
      "+-----+----------+\n",
      "|    4| 152024952|\n",
      "|    9| 141104784|\n",
      "|    2| 135954100|\n",
      "|    6| 128508974|\n",
      "|    1| 128367164|\n",
      "|    8| 128316907|\n",
      "|   11| 122062211|\n",
      "|    7| 120755848|\n",
      "|   10| 118408114|\n",
      "|    3| 115510964|\n",
      "|    5| 109158278|\n",
      "|   12| 106113279|\n",
      "+-----+----------+\n",
      "\n"
     ]
    }
   ],
   "source": [
    "# Average Monthly Nonzero Revenue\n",
    "spark.sql(\"\"\"SELECT month, FLOOR(AVG(`totals.transactionRevenue`)) as AvgRevenue \\\n",
    "             FROM viewDF \\\n",
    "             WHERE `totals.transactionRevenue` > 0 \\\n",
    "             GROUP BY month \\\n",
    "             ORDER BY AVG(`totals.transactionRevenue`) DESC \"\"\").show()"
   ]
  },
  {
   "cell_type": "code",
   "execution_count": 52,
   "metadata": {},
   "outputs": [
    {
     "data": {
      "image/png": "[encoded data removed]",
      "text/plain": [
       "<Figure size 720x504 with 1 Axes>"
      ]
     },
     "metadata": {
      "needs_background": "light"
     },
     "output_type": "display_data"
    }
   ],
   "source": [
    "#Average Revenue in Different Channel\n",
    "plt.figure(figsize=(10,7))\n",
    "\n",
    "sns.barplot(x=\"channelGrouping\", y=\"totals.transactionRevenue\", data=dataNew2, palette='Set2', ci=None)\n",
    "plt.title(\"Average Revenue in Different Channel\", fontsize=20) # seting the title size\n",
    "plt.xlabel(\"Device\", fontsize=18) # seting the x label size\n",
    "plt.ylabel(\"Avg Revenue\", fontsize=18) # seting the y label size\n",
    "\n",
    "plt.show()"
   ]
  },
  {
   "cell_type": "code",
   "execution_count": 22,
   "metadata": {},
   "outputs": [
    {
     "name": "stdout",
     "output_type": "stream",
     "text": [
      "+---------------+----------+------------+------+\n",
      "|channelGrouping|AvgRevenue|    TotalRev| Count|\n",
      "+---------------+----------+------------+------+\n",
      "|       Referral|   4713620|996021010000|211307|\n",
      "|         Direct|   2186927|597324310000|273134|\n",
      "|        Display|   2111601|108289260000| 51283|\n",
      "|    Paid Search|   1467741| 66968620000| 45627|\n",
      "| Organic Search|    730075|539498950000|738963|\n",
      "|        (Other)|     72919|     9990000|   137|\n",
      "|     Affiliates|     26281|   865070000| 32915|\n",
      "|         Social|     20755|  7367770000|354971|\n",
      "+---------------+----------+------------+------+\n",
      "\n"
     ]
    }
   ],
   "source": [
    "# Average Revenue in Different Channel\n",
    "spark.sql(\"\"\"SELECT `channelGrouping`,  FLOOR(AVG(`totals.transactionRevenue`)) as AvgRevenue, \\\n",
    "            FLOOR(Sum(`totals.transactionRevenue`)) as TotalRev, COUNT(`channelGrouping`) as Count\n",
    "            FROM viewDF\n",
    "            GROUP BY `channelGrouping`\n",
    "            ORDER BY AVG(`totals.transactionRevenue`) DESC \"\"\").show()"
   ]
  },
  {
   "cell_type": "code",
   "execution_count": 23,
   "metadata": {},
   "outputs": [
    {
     "name": "stdout",
     "output_type": "stream",
     "text": [
      "+---------------+------------+-----+\n",
      "|channelGrouping|CountChannel|Ratio|\n",
      "+---------------+------------+-----+\n",
      "| Organic Search|      738963| 0.43|\n",
      "|         Social|      354971| 0.21|\n",
      "|         Direct|      273134| 0.16|\n",
      "|       Referral|      211307| 0.12|\n",
      "|        Display|       51283| 0.03|\n",
      "|    Paid Search|       45627| 0.03|\n",
      "|     Affiliates|       32915| 0.02|\n",
      "|        (Other)|         137|  0.0|\n",
      "+---------------+------------+-----+\n",
      "\n"
     ]
    }
   ],
   "source": [
    "spark.sql(\"\"\"SELECT `channelGrouping`,  COUNT(`channelGrouping`) as CountChannel, \n",
    "            ROUND(COUNT(`channelGrouping`)/1708337, 2) as Ratio\n",
    "            FROM viewDF\n",
    "            GROUP BY `channelGrouping`\n",
    "            ORDER BY Ratio DESC \"\"\").show()"
   ]
  },
  {
   "cell_type": "code",
   "execution_count": 24,
   "metadata": {},
   "outputs": [
    {
     "name": "stdout",
     "output_type": "stream",
     "text": [
      "+-------------+\n",
      "|  TotalReveue|\n",
      "+-------------+\n",
      "|2316344980000|\n",
      "+-------------+\n",
      "\n",
      "Referral:  0.42999683492741225\n",
      "Direct:  0.2578736393574674\n",
      "Display:  0.046750057066197455\n",
      "Organic:  0.23290958585970212\n"
     ]
    }
   ],
   "source": [
    "# To calculate the ratio\n",
    "spark.sql(\"\"\" SELECT FLOOR(SUM(`totals.transactionRevenue`)) as TotalReveue\n",
    "            FROM viewDF \"\"\").show()\n",
    "\n",
    "#Referral\n",
    "print(\"Referral: \", 996021010000/2316344980000)\n",
    "\n",
    "#Direct\n",
    "print(\"Direct: \", 597324310000/2316344980000)\n",
    "\n",
    "#Display\n",
    "print(\"Display: \", 108289260000/2316344980000)\n",
    "\n",
    "#Organic \n",
    "print(\"Organic: \", 539498950000/2316344980000)"
   ]
  },
  {
   "cell_type": "code",
   "execution_count": 53,
   "metadata": {},
   "outputs": [
    {
     "data": {
      "image/png": "[encoded data removed]",
      "text/plain": [
       "<Figure size 720x504 with 1 Axes>"
      ]
     },
     "metadata": {
      "needs_background": "light"
     },
     "output_type": "display_data"
    }
   ],
   "source": [
    "# Average Nonzero Revenue in Different Channel\n",
    "plt.figure(figsize=(10,7))\n",
    "\n",
    "sns.barplot(x=\"channelGrouping\", y=\"totals.transactionRevenue\",data=nz_revenue_df, palette='Set2', ci=None)\n",
    "plt.title(\"Average Nonzero Revenue in Different Channel\", fontsize=20) # seting the title size\n",
    "plt.xlabel(\"Device\", fontsize=18) # seting the x label size\n",
    "plt.ylabel(\"Avg Revenue\", fontsize=18) # seting the y label size\n",
    "\n",
    "plt.show()"
   ]
  },
  {
   "cell_type": "code",
   "execution_count": 25,
   "metadata": {},
   "outputs": [
    {
     "name": "stdout",
     "output_type": "stream",
     "text": [
      "+---------------+----------+------------+-----+\n",
      "|channelGrouping|AvgRevenue|    TotalRev|Count|\n",
      "+---------------+----------+------------+-----+\n",
      "|        Display| 528240292|108289260000|  205|\n",
      "|         Direct| 179916960|597324310000| 3320|\n",
      "|       Referral| 116005242|996021010000| 8586|\n",
      "| Organic Search|  97859414|539498950000| 5513|\n",
      "|    Paid Search|  94189338| 66968620000|  711|\n",
      "|     Affiliates|  50886470|   865070000|   17|\n",
      "|         Social|  45762546|  7367770000|  161|\n",
      "|        (Other)|   9990000|     9990000|    1|\n",
      "+---------------+----------+------------+-----+\n",
      "\n"
     ]
    }
   ],
   "source": [
    "# Average Nonzero Revenue in Different Channel\n",
    "spark.sql(\"\"\"SELECT `channelGrouping`,  FLOOR(AVG(`totals.transactionRevenue`)) as AvgRevenue, \\\n",
    "            FLOOR(Sum(`totals.transactionRevenue`)) as TotalRev, COUNT(`channelGrouping`) as Count\n",
    "            FROM viewDF\n",
    "            WHERE `totals.transactionRevenue` > 0\n",
    "            GROUP BY `channelGrouping`\n",
    "            ORDER BY AVG(`totals.transactionRevenue`) DESC \"\"\").show()"
   ]
  },
  {
   "cell_type": "markdown",
   "metadata": {},
   "source": [
    "## Model"
   ]
  },
  {
   "cell_type": "code",
   "execution_count": 26,
   "metadata": {},
   "outputs": [],
   "source": [
    "# Load Data\n",
    "df_nz = pd.read_csv(\"s3://largedataset-project/nz_revenue.csv\")"
   ]
  },
  {
   "cell_type": "markdown",
   "metadata": {},
   "source": [
    "### Model Building\n",
    "* We want to predict whether the total transaction revenue is high or low?\n",
    "* Also, we want to predict whether a visitor will make transaction?"
   ]
  },
  {
   "cell_type": "markdown",
   "metadata": {},
   "source": [
    "Before building the model, we first look at the correlation between variables in the dataset by removing non-numerical columns and plot the correlation matrix."
   ]
  },
  {
   "cell_type": "code",
   "execution_count": 27,
   "metadata": {},
   "outputs": [
    {
     "data": {
      "image/png": "[encoded data removed]",
      "text/plain": [
       "<Figure size 720x576 with 2 Axes>"
      ]
     },
     "metadata": {
      "needs_background": "light"
     },
     "output_type": "display_data"
    }
   ],
   "source": [
    "df = df_nz[[\"device.isMobile\", \"totals.hits\", \"totals.pageviews\", \"totals.transactionRevenue\", \"weekday\", \"day\", \"month\", \"year\", \"visitHour\"]]\n",
    "plt.figure(figsize=(10,8))\n",
    "corrMatrix = df.corr()\n",
    "ax = sns.heatmap(corrMatrix, annot=True, fmt='.2g', cmap= 'RdBu')\n",
    "bottom, top = ax.get_ylim()\n",
    "ax.set_ylim(bottom + 0.5, top - 0.5)\n",
    "plt.show()"
   ]
  },
  {
   "cell_type": "markdown",
   "metadata": {},
   "source": [
    "From the above correlation matrix, we can see that only total hits and total pageviews have relatively significant positive correlation with total transaction revenue. Moreover, totoal hits and total pageviews seem to be highly correlated with each others."
   ]
  },
  {
   "cell_type": "markdown",
   "metadata": {},
   "source": [
    "### Predict Total Transaction Revenue"
   ]
  },
  {
   "cell_type": "markdown",
   "metadata": {},
   "source": [
    "In this part, we apply random forest classifier to predict the total transaction revenue level for each visitor. Here we define the total transaction revenue into three levels, \"High\", \"Mid\", and \"Low\", based on the statistics quantile."
   ]
  },
  {
   "cell_type": "markdown",
   "metadata": {},
   "source": [
    "##### Data Wrangling and Processing"
   ]
  },
  {
   "cell_type": "code",
   "execution_count": 28,
   "metadata": {},
   "outputs": [
    {
     "name": "stdout",
     "output_type": "stream",
     "text": [
      "<class 'pandas.core.frame.DataFrame'>\n",
      "RangeIndex: 18514 entries, 0 to 18513\n",
      "Data columns (total 28 columns):\n",
      " #   Column                     Non-Null Count  Dtype  \n",
      "---  ------                     --------------  -----  \n",
      " 0   channelGrouping            18514 non-null  object \n",
      " 1   date                       18514 non-null  object \n",
      " 2   fullVisitorId              18514 non-null  uint64 \n",
      " 3   visitId                    18514 non-null  int64  \n",
      " 4   visitNumber                18514 non-null  int64  \n",
      " 5   visitStartTime             18514 non-null  int64  \n",
      " 6   device.browser             18514 non-null  object \n",
      " 7   device.operatingSystem     18514 non-null  object \n",
      " 8   device.isMobile            18514 non-null  bool   \n",
      " 9   device.deviceCategory      18514 non-null  object \n",
      " 10  geoNetwork.continent       18514 non-null  object \n",
      " 11  geoNetwork.subContinent    18514 non-null  object \n",
      " 12  geoNetwork.country         18514 non-null  object \n",
      " 13  geoNetwork.region          18514 non-null  object \n",
      " 14  geoNetwork.metro           18514 non-null  object \n",
      " 15  geoNetwork.city            18514 non-null  object \n",
      " 16  geoNetwork.networkDomain   18514 non-null  object \n",
      " 17  totals.hits                18514 non-null  float64\n",
      " 18  totals.pageviews           18514 non-null  float64\n",
      " 19  totals.transactionRevenue  18514 non-null  float64\n",
      " 20  trafficSource.campaign     18514 non-null  object \n",
      " 21  trafficSource.source       18514 non-null  object \n",
      " 22  trafficSource.medium       18514 non-null  object \n",
      " 23  weekday                    18514 non-null  int64  \n",
      " 24  day                        18514 non-null  int64  \n",
      " 25  month                      18514 non-null  int64  \n",
      " 26  year                       18514 non-null  int64  \n",
      " 27  visitHour                  18514 non-null  int64  \n",
      "dtypes: bool(1), float64(3), int64(8), object(15), uint64(1)\n",
      "memory usage: 3.8+ MB\n"
     ]
    }
   ],
   "source": [
    "df_nz.info()"
   ]
  },
  {
   "cell_type": "code",
   "execution_count": 29,
   "metadata": {},
   "outputs": [],
   "source": [
    "# Deal with date data\n",
    "df_nz['date'] = pd.to_datetime(df_nz['date'])"
   ]
  },
  {
   "cell_type": "code",
   "execution_count": 30,
   "metadata": {},
   "outputs": [
    {
     "data": {
      "text/plain": [
       "count    1.851400e+04\n",
       "mean     1.251132e+08\n",
       "std      4.162653e+08\n",
       "min      1.000000e+04\n",
       "25%      2.306750e+07\n",
       "50%      4.606000e+07\n",
       "75%      1.000000e+08\n",
       "max      2.312950e+10\n",
       "Name: totals.transactionRevenue, dtype: float64"
      ]
     },
     "execution_count": 30,
     "metadata": {},
     "output_type": "execute_result"
    }
   ],
   "source": [
    "# Check the statistics of totals.transactionRevenue\n",
    "df_nz[\"totals.transactionRevenue\"].describe()"
   ]
  },
  {
   "cell_type": "code",
   "execution_count": 31,
   "metadata": {},
   "outputs": [],
   "source": [
    "# Create a new column called 'revenue' as predicted target in the model\n",
    "# High revenue means the total transaction revenue is higher than 75% quantile, which is 107,740,000\n",
    "# Low revenue means the total transaction revenue is lower than 25% quantile, which is 24,930,000\n",
    "# Mid revenue means the total transaction revenue is in between 25% to 75% quantile\n",
    "df_nz['revenue_high'] = df_nz[\"totals.transactionRevenue\"].apply(lambda x: 1 if x >1.076550e+08 else 0)\n",
    "df_nz['revenue_mid'] = df_nz[\"totals.transactionRevenue\"].apply(lambda x: 1 if (x >2.493000e+07)and (x <1.076550e+08) else 0)\n",
    "df_nz['revenue_low'] = df_nz[\"totals.transactionRevenue\"].apply(lambda x: 1 if x <2.493000e+07 else 0)"
   ]
  },
  {
   "cell_type": "code",
   "execution_count": 32,
   "metadata": {},
   "outputs": [
    {
     "data": {
      "text/html": [
       "<div>\n",
       "<style scoped>\n",
       "    .dataframe tbody tr th:only-of-type {\n",
       "        vertical-align: middle;\n",
       "    }\n",
       "\n",
       "    .dataframe tbody tr th {\n",
       "        vertical-align: top;\n",
       "    }\n",
       "\n",
       "    .dataframe thead th {\n",
       "        text-align: right;\n",
       "    }\n",
       "</style>\n",
       "<table border=\"1\" class=\"dataframe\">\n",
       "  <thead>\n",
       "    <tr style=\"text-align: right;\">\n",
       "      <th></th>\n",
       "      <th>channelGrouping</th>\n",
       "      <th>date</th>\n",
       "      <th>fullVisitorId</th>\n",
       "      <th>visitId</th>\n",
       "      <th>visitNumber</th>\n",
       "      <th>visitStartTime</th>\n",
       "      <th>device.browser</th>\n",
       "      <th>device.operatingSystem</th>\n",
       "      <th>device.isMobile</th>\n",
       "      <th>device.deviceCategory</th>\n",
       "      <th>...</th>\n",
       "      <th>trafficSource.source</th>\n",
       "      <th>trafficSource.medium</th>\n",
       "      <th>weekday</th>\n",
       "      <th>day</th>\n",
       "      <th>month</th>\n",
       "      <th>year</th>\n",
       "      <th>visitHour</th>\n",
       "      <th>revenue_high</th>\n",
       "      <th>revenue_mid</th>\n",
       "      <th>revenue_low</th>\n",
       "    </tr>\n",
       "  </thead>\n",
       "  <tbody>\n",
       "    <tr>\n",
       "      <th>0</th>\n",
       "      <td>Organic Search</td>\n",
       "      <td>2017-10-16</td>\n",
       "      <td>9549826748224805897</td>\n",
       "      <td>1508200705</td>\n",
       "      <td>4</td>\n",
       "      <td>1508200705</td>\n",
       "      <td>Chrome</td>\n",
       "      <td>Macintosh</td>\n",
       "      <td>False</td>\n",
       "      <td>desktop</td>\n",
       "      <td>...</td>\n",
       "      <td>google</td>\n",
       "      <td>organic</td>\n",
       "      <td>0</td>\n",
       "      <td>16</td>\n",
       "      <td>10</td>\n",
       "      <td>2017</td>\n",
       "      <td>20</td>\n",
       "      <td>0</td>\n",
       "      <td>0</td>\n",
       "      <td>1</td>\n",
       "    </tr>\n",
       "    <tr>\n",
       "      <th>1</th>\n",
       "      <td>Referral</td>\n",
       "      <td>2017-10-16</td>\n",
       "      <td>3700714855829972615</td>\n",
       "      <td>1508192636</td>\n",
       "      <td>11</td>\n",
       "      <td>1508192636</td>\n",
       "      <td>Chrome</td>\n",
       "      <td>Windows</td>\n",
       "      <td>False</td>\n",
       "      <td>desktop</td>\n",
       "      <td>...</td>\n",
       "      <td>(direct)</td>\n",
       "      <td>(none)</td>\n",
       "      <td>0</td>\n",
       "      <td>16</td>\n",
       "      <td>10</td>\n",
       "      <td>2017</td>\n",
       "      <td>18</td>\n",
       "      <td>0</td>\n",
       "      <td>0</td>\n",
       "      <td>1</td>\n",
       "    </tr>\n",
       "    <tr>\n",
       "      <th>2</th>\n",
       "      <td>Organic Search</td>\n",
       "      <td>2017-10-16</td>\n",
       "      <td>1572225825161580042</td>\n",
       "      <td>1508162218</td>\n",
       "      <td>6</td>\n",
       "      <td>1508162218</td>\n",
       "      <td>Safari</td>\n",
       "      <td>iOS</td>\n",
       "      <td>True</td>\n",
       "      <td>mobile</td>\n",
       "      <td>...</td>\n",
       "      <td>google</td>\n",
       "      <td>organic</td>\n",
       "      <td>0</td>\n",
       "      <td>16</td>\n",
       "      <td>10</td>\n",
       "      <td>2017</td>\n",
       "      <td>9</td>\n",
       "      <td>0</td>\n",
       "      <td>1</td>\n",
       "      <td>0</td>\n",
       "    </tr>\n",
       "    <tr>\n",
       "      <th>3</th>\n",
       "      <td>Referral</td>\n",
       "      <td>2017-10-16</td>\n",
       "      <td>7187192533100162289</td>\n",
       "      <td>1508189401</td>\n",
       "      <td>17</td>\n",
       "      <td>1508189401</td>\n",
       "      <td>Chrome</td>\n",
       "      <td>Macintosh</td>\n",
       "      <td>False</td>\n",
       "      <td>desktop</td>\n",
       "      <td>...</td>\n",
       "      <td>(direct)</td>\n",
       "      <td>(none)</td>\n",
       "      <td>0</td>\n",
       "      <td>16</td>\n",
       "      <td>10</td>\n",
       "      <td>2017</td>\n",
       "      <td>17</td>\n",
       "      <td>0</td>\n",
       "      <td>0</td>\n",
       "      <td>1</td>\n",
       "    </tr>\n",
       "    <tr>\n",
       "      <th>4</th>\n",
       "      <td>Referral</td>\n",
       "      <td>2017-10-16</td>\n",
       "      <td>7889233516776348524</td>\n",
       "      <td>1508190484</td>\n",
       "      <td>1</td>\n",
       "      <td>1508190484</td>\n",
       "      <td>Chrome</td>\n",
       "      <td>Macintosh</td>\n",
       "      <td>False</td>\n",
       "      <td>desktop</td>\n",
       "      <td>...</td>\n",
       "      <td>(direct)</td>\n",
       "      <td>(none)</td>\n",
       "      <td>0</td>\n",
       "      <td>16</td>\n",
       "      <td>10</td>\n",
       "      <td>2017</td>\n",
       "      <td>17</td>\n",
       "      <td>0</td>\n",
       "      <td>0</td>\n",
       "      <td>1</td>\n",
       "    </tr>\n",
       "  </tbody>\n",
       "</table>\n",
       "<p>5 rows × 31 columns</p>\n",
       "</div>"
      ],
      "text/plain": [
       "  channelGrouping       date        fullVisitorId     visitId  visitNumber  \\\n",
       "0  Organic Search 2017-10-16  9549826748224805897  1508200705            4   \n",
       "1        Referral 2017-10-16  3700714855829972615  1508192636           11   \n",
       "2  Organic Search 2017-10-16  1572225825161580042  1508162218            6   \n",
       "3        Referral 2017-10-16  7187192533100162289  1508189401           17   \n",
       "4        Referral 2017-10-16  7889233516776348524  1508190484            1   \n",
       "\n",
       "   visitStartTime device.browser device.operatingSystem  device.isMobile  \\\n",
       "0      1508200705         Chrome              Macintosh            False   \n",
       "1      1508192636         Chrome                Windows            False   \n",
       "2      1508162218         Safari                    iOS             True   \n",
       "3      1508189401         Chrome              Macintosh            False   \n",
       "4      1508190484         Chrome              Macintosh            False   \n",
       "\n",
       "  device.deviceCategory  ... trafficSource.source trafficSource.medium  \\\n",
       "0               desktop  ...               google              organic   \n",
       "1               desktop  ...             (direct)               (none)   \n",
       "2                mobile  ...               google              organic   \n",
       "3               desktop  ...             (direct)               (none)   \n",
       "4               desktop  ...             (direct)               (none)   \n",
       "\n",
       "  weekday day month  year visitHour  revenue_high  revenue_mid  revenue_low  \n",
       "0       0  16    10  2017        20             0            0            1  \n",
       "1       0  16    10  2017        18             0            0            1  \n",
       "2       0  16    10  2017         9             0            1            0  \n",
       "3       0  16    10  2017        17             0            0            1  \n",
       "4       0  16    10  2017        17             0            0            1  \n",
       "\n",
       "[5 rows x 31 columns]"
      ]
     },
     "execution_count": 32,
     "metadata": {},
     "output_type": "execute_result"
    }
   ],
   "source": [
    "df_nz.head()"
   ]
  },
  {
   "cell_type": "code",
   "execution_count": 33,
   "metadata": {},
   "outputs": [
    {
     "data": {
      "text/plain": [
       "['channelGrouping',\n",
       " 'date',\n",
       " 'fullVisitorId',\n",
       " 'visitId',\n",
       " 'visitNumber',\n",
       " 'visitStartTime',\n",
       " 'device.browser',\n",
       " 'device.operatingSystem',\n",
       " 'device.isMobile',\n",
       " 'device.deviceCategory',\n",
       " 'geoNetwork.continent',\n",
       " 'geoNetwork.subContinent',\n",
       " 'geoNetwork.country',\n",
       " 'geoNetwork.region',\n",
       " 'geoNetwork.metro',\n",
       " 'geoNetwork.city',\n",
       " 'geoNetwork.networkDomain',\n",
       " 'totals.hits',\n",
       " 'totals.pageviews',\n",
       " 'totals.transactionRevenue',\n",
       " 'trafficSource.campaign',\n",
       " 'trafficSource.source',\n",
       " 'trafficSource.medium',\n",
       " 'weekday',\n",
       " 'day',\n",
       " 'month',\n",
       " 'year',\n",
       " 'visitHour',\n",
       " 'revenue_high',\n",
       " 'revenue_mid',\n",
       " 'revenue_low']"
      ]
     },
     "execution_count": 33,
     "metadata": {},
     "output_type": "execute_result"
    }
   ],
   "source": [
    "list(df_nz.columns)"
   ]
  },
  {
   "cell_type": "code",
   "execution_count": 34,
   "metadata": {},
   "outputs": [],
   "source": [
    "# Drop columns that will not be used in the model\n",
    "df_nz = df_nz.drop([\"date\", \"fullVisitorId\", \"visitId\", \"visitStartTime\", \n",
    "                      \"geoNetwork.continent\", \"geoNetwork.subContinent\",\n",
    "                        \"geoNetwork.region\", \"geoNetwork.metro\", \n",
    "                        \"geoNetwork.city\", \"geoNetwork.networkDomain\", \n",
    "                        \"month\", \"weekday\", \"day\", \"year\"], axis = 1)"
   ]
  },
  {
   "cell_type": "code",
   "execution_count": 35,
   "metadata": {},
   "outputs": [
    {
     "name": "stderr",
     "output_type": "stream",
     "text": [
      "/home/hadoop/miniconda/lib/python3.7/site-packages/pandas/core/ops/array_ops.py:253: FutureWarning: elementwise comparison failed; returning scalar instead, but in the future will perform elementwise comparison\n",
      "  res_values = method(rvalues)\n"
     ]
    }
   ],
   "source": [
    "# Deal with boolean value\n",
    "df_nz['device.isMobile'] = (df_nz['device.isMobile'] == 'True').astype(int)"
   ]
  },
  {
   "cell_type": "code",
   "execution_count": 36,
   "metadata": {},
   "outputs": [
    {
     "name": "stdout",
     "output_type": "stream",
     "text": [
      "<class 'pandas.core.frame.DataFrame'>\n",
      "RangeIndex: 18514 entries, 0 to 18513\n",
      "Data columns (total 17 columns):\n",
      " #   Column                     Non-Null Count  Dtype  \n",
      "---  ------                     --------------  -----  \n",
      " 0   channelGrouping            18514 non-null  object \n",
      " 1   visitNumber                18514 non-null  int64  \n",
      " 2   device.browser             18514 non-null  object \n",
      " 3   device.operatingSystem     18514 non-null  object \n",
      " 4   device.isMobile            18514 non-null  int64  \n",
      " 5   device.deviceCategory      18514 non-null  object \n",
      " 6   geoNetwork.country         18514 non-null  object \n",
      " 7   totals.hits                18514 non-null  float64\n",
      " 8   totals.pageviews           18514 non-null  float64\n",
      " 9   totals.transactionRevenue  18514 non-null  float64\n",
      " 10  trafficSource.campaign     18514 non-null  object \n",
      " 11  trafficSource.source       18514 non-null  object \n",
      " 12  trafficSource.medium       18514 non-null  object \n",
      " 13  visitHour                  18514 non-null  int64  \n",
      " 14  revenue_high               18514 non-null  int64  \n",
      " 15  revenue_mid                18514 non-null  int64  \n",
      " 16  revenue_low                18514 non-null  int64  \n",
      "dtypes: float64(3), int64(6), object(8)\n",
      "memory usage: 2.4+ MB\n"
     ]
    }
   ],
   "source": [
    "df_nz.info()"
   ]
  },
  {
   "cell_type": "code",
   "execution_count": 37,
   "metadata": {},
   "outputs": [],
   "source": [
    "# Label encoding the Categorical variables\n",
    "from sklearn.preprocessing import LabelEncoder\n",
    "\n",
    "categorical_columns = [\"channelGrouping\", \"device.browser\", \"device.operatingSystem\", \n",
    "                       \"geoNetwork.country\", \"device.deviceCategory\",\n",
    "                        \"trafficSource.campaign\", \"trafficSource.source\",\"trafficSource.medium\"]\n",
    "\n",
    "le = LabelEncoder()\n",
    "for col in categorical_columns:\n",
    "    encoded_col  = list(df_nz[col].values.astype(str))\n",
    "    le.fit(encoded_col)\n",
    "    df_nz[col] = le.transform(encoded_col)"
   ]
  },
  {
   "cell_type": "markdown",
   "metadata": {},
   "source": [
    "##### Model Preparation"
   ]
  },
  {
   "cell_type": "code",
   "execution_count": 38,
   "metadata": {},
   "outputs": [],
   "source": [
    "# Import Libraries\n",
    "from sklearn.model_selection import train_test_split\n",
    "from sklearn.tree import DecisionTreeClassifier\n",
    "from sklearn.metrics import accuracy_score\n",
    "from sklearn.metrics import classification_report, confusion_matrix \n",
    "from sklearn import tree, metrics"
   ]
  },
  {
   "cell_type": "code",
   "execution_count": 39,
   "metadata": {},
   "outputs": [],
   "source": [
    "ml = df_nz"
   ]
  },
  {
   "cell_type": "code",
   "execution_count": 40,
   "metadata": {},
   "outputs": [],
   "source": [
    "ml_df = ml.drop(['totals.transactionRevenue'], axis = 1)\n",
    "X = ml_df.drop(['revenue_high', 'revenue_mid', 'revenue_low'], axis = 1)\n",
    "y = ml_df[['revenue_high', 'revenue_mid', 'revenue_low']]"
   ]
  },
  {
   "cell_type": "code",
   "execution_count": 41,
   "metadata": {},
   "outputs": [],
   "source": [
    "# Create a train-test data split\n",
    "X_train, X_test, y_train, y_test = train_test_split(X, y, test_size = 0.3, random_state=10)"
   ]
  },
  {
   "cell_type": "code",
   "execution_count": 42,
   "metadata": {},
   "outputs": [
    {
     "name": "stdout",
     "output_type": "stream",
     "text": [
      "<class 'pandas.core.frame.DataFrame'>\n",
      "Int64Index: 12959 entries, 5720 to 17673\n",
      "Data columns (total 13 columns):\n",
      " #   Column                  Non-Null Count  Dtype  \n",
      "---  ------                  --------------  -----  \n",
      " 0   channelGrouping         12959 non-null  int64  \n",
      " 1   visitNumber             12959 non-null  int64  \n",
      " 2   device.browser          12959 non-null  int64  \n",
      " 3   device.operatingSystem  12959 non-null  int64  \n",
      " 4   device.isMobile         12959 non-null  int64  \n",
      " 5   device.deviceCategory   12959 non-null  int64  \n",
      " 6   geoNetwork.country      12959 non-null  int64  \n",
      " 7   totals.hits             12959 non-null  float64\n",
      " 8   totals.pageviews        12959 non-null  float64\n",
      " 9   trafficSource.campaign  12959 non-null  int64  \n",
      " 10  trafficSource.source    12959 non-null  int64  \n",
      " 11  trafficSource.medium    12959 non-null  int64  \n",
      " 12  visitHour               12959 non-null  int64  \n",
      "dtypes: float64(2), int64(11)\n",
      "memory usage: 1.4 MB\n"
     ]
    }
   ],
   "source": [
    "X_train.info()"
   ]
  },
  {
   "cell_type": "markdown",
   "metadata": {},
   "source": [
    "##### Apply Random Forest and XGBoost Classifier"
   ]
  },
  {
   "cell_type": "code",
   "execution_count": 43,
   "metadata": {},
   "outputs": [
    {
     "name": "stdout",
     "output_type": "stream",
     "text": [
      "Requirement already satisfied: xgboost in /home/hadoop/miniconda/lib/python3.7/site-packages (1.1.1)\n",
      "Requirement already satisfied: numpy in /home/hadoop/miniconda/lib/python3.7/site-packages (from xgboost) (1.18.5)\n",
      "Requirement already satisfied: scipy in /home/hadoop/miniconda/lib/python3.7/site-packages (from xgboost) (1.5.0)\n"
     ]
    }
   ],
   "source": [
    "!pip install xgboost"
   ]
  },
  {
   "cell_type": "code",
   "execution_count": 44,
   "metadata": {},
   "outputs": [],
   "source": [
    "# Import Libraries\n",
    "from sklearn.ensemble import RandomForestClassifier\n",
    "from sklearn.metrics import classification_report, confusion_matrix, accuracy_score\n",
    "from xgboost import XGBClassifier\n",
    "from sklearn.model_selection import GridSearchCV \n",
    "from sklearn.model_selection import StratifiedKFold \n",
    "from sklearn.preprocessing import LabelEncoder\n",
    "from xgboost import plot_importance\n",
    "from xgboost import plot_tree"
   ]
  },
  {
   "cell_type": "code",
   "execution_count": 45,
   "metadata": {},
   "outputs": [
    {
     "name": "stdout",
     "output_type": "stream",
     "text": [
      "<class 'pandas.core.frame.DataFrame'>\n",
      "RangeIndex: 18514 entries, 0 to 18513\n",
      "Data columns (total 17 columns):\n",
      " #   Column                     Non-Null Count  Dtype  \n",
      "---  ------                     --------------  -----  \n",
      " 0   channelGrouping            18514 non-null  int64  \n",
      " 1   visitNumber                18514 non-null  int64  \n",
      " 2   device.browser             18514 non-null  int64  \n",
      " 3   device.operatingSystem     18514 non-null  int64  \n",
      " 4   device.isMobile            18514 non-null  int64  \n",
      " 5   device.deviceCategory      18514 non-null  int64  \n",
      " 6   geoNetwork.country         18514 non-null  int64  \n",
      " 7   totals.hits                18514 non-null  float64\n",
      " 8   totals.pageviews           18514 non-null  float64\n",
      " 9   totals.transactionRevenue  18514 non-null  float64\n",
      " 10  trafficSource.campaign     18514 non-null  int64  \n",
      " 11  trafficSource.source       18514 non-null  int64  \n",
      " 12  trafficSource.medium       18514 non-null  int64  \n",
      " 13  visitHour                  18514 non-null  int64  \n",
      " 14  revenue_high               18514 non-null  int64  \n",
      " 15  revenue_mid                18514 non-null  int64  \n",
      " 16  revenue_low                18514 non-null  int64  \n",
      "dtypes: float64(3), int64(14)\n",
      "memory usage: 2.4 MB\n"
     ]
    }
   ],
   "source": [
    "df_nz.info()"
   ]
  },
  {
   "cell_type": "code",
   "execution_count": 46,
   "metadata": {},
   "outputs": [
    {
     "data": {
      "text/plain": [
       "RandomForestClassifier(class_weight='balanced', n_estimators=500,\n",
       "                       random_state=10)"
      ]
     },
     "execution_count": 46,
     "metadata": {},
     "output_type": "execute_result"
    }
   ],
   "source": [
    "# Create a Random Forest Classifier\n",
    "rf_model = RandomForestClassifier(n_estimators=500, class_weight='balanced', random_state=10)\n",
    "rf_model.fit(X_train, y_train)"
   ]
  },
  {
   "cell_type": "code",
   "execution_count": 47,
   "metadata": {},
   "outputs": [
    {
     "name": "stdout",
     "output_type": "stream",
     "text": [
      "0.4496849684968497\n"
     ]
    }
   ],
   "source": [
    "# Testing Accuracy\n",
    "y_pred = rf_model.predict(X_test)\n",
    "print(accuracy_score(y_test.values.argmax(axis = 1), y_pred.argmax(axis = 1)))"
   ]
  },
  {
   "cell_type": "code",
   "execution_count": 48,
   "metadata": {},
   "outputs": [
    {
     "data": {
      "text/plain": [
       "XGBClassifier(base_score=0.5, booster='gbtree', colsample_bylevel=1,\n",
       "              colsample_bynode=1, colsample_bytree=1, gamma=0, gpu_id=-1,\n",
       "              importance_type='gain', interaction_constraints='',\n",
       "              learning_rate=0.01, max_delta_step=0, max_depth=5,\n",
       "              min_child_weight=1, missing=nan, monotone_constraints='()',\n",
       "              n_estimators=500, n_jobs=0, num_class=3, num_parallel_tree=1,\n",
       "              objective='multi:softprob', random_state=27, reg_alpha=0,\n",
       "              reg_lambda=1, scale_pos_weight=None, seed=27, subsample=1,\n",
       "              tree_method='exact', validate_parameters=1, verbosity=None)"
      ]
     },
     "execution_count": 48,
     "metadata": {},
     "output_type": "execute_result"
    }
   ],
   "source": [
    "# Create a XGBoost Classifier\n",
    "xgb_model = XGBClassifier(learning_rate =0.01, n_estimators=500, max_depth=5, \n",
    "                          objective= 'multi:softmax', num_class=3, seed=27)\n",
    "xgb_model.fit(X_train, np.argmax(y_train.to_numpy(), axis = 1))"
   ]
  },
  {
   "cell_type": "code",
   "execution_count": 49,
   "metadata": {},
   "outputs": [
    {
     "name": "stdout",
     "output_type": "stream",
     "text": [
      "              precision    recall  f1-score   support\n",
      "\n",
      "           0       0.59      0.25      0.35      1280\n",
      "           1       0.53      0.87      0.66      2760\n",
      "           2       0.57      0.20      0.29      1515\n",
      "\n",
      "    accuracy                           0.54      5555\n",
      "   macro avg       0.56      0.44      0.43      5555\n",
      "weighted avg       0.56      0.54      0.49      5555\n",
      "\n",
      "Accuracy of Testing Data: 0.5416741674167417\n"
     ]
    }
   ],
   "source": [
    "# Testing Accuracy\n",
    "y_pred = xgb_model.predict(X_test)\n",
    "print(classification_report(np.argmax(y_test.to_numpy(), axis = 1),y_pred))\n",
    "print(\"Accuracy of Testing Data:\",metrics.accuracy_score(np.argmax(y_test.to_numpy(), axis = 1), y_pred))"
   ]
  },
  {
   "cell_type": "code",
   "execution_count": 51,
   "metadata": {},
   "outputs": [],
   "source": [
    "# conda install python-graphviz"
   ]
  },
  {
   "cell_type": "code",
   "execution_count": 52,
   "metadata": {},
   "outputs": [],
   "source": [
    "# # Plot Tree\n",
    "# plot_tree(xgb_model, num_trees=5, rankdir='LR')\n",
    "# plt.show()"
   ]
  },
  {
   "cell_type": "code",
   "execution_count": 53,
   "metadata": {},
   "outputs": [
    {
     "data": {
      "text/plain": [
       "<matplotlib.axes._subplots.AxesSubplot at 0x7f62eda840d0>"
      ]
     },
     "execution_count": 53,
     "metadata": {},
     "output_type": "execute_result"
    },
    {
     "data": {
      "image/png": "[encoded data removed]",
      "text/plain": [
       "<Figure size 2088x1440 with 1 Axes>"
      ]
     },
     "metadata": {
      "needs_background": "light"
     },
     "output_type": "display_data"
    }
   ],
   "source": [
    "# Plot Feature Importance\n",
    "plt.rcParams[\"figure.figsize\"] = (29, 20)\n",
    "plot_importance(xgb_model, max_num_features=10)"
   ]
  },
  {
   "cell_type": "markdown",
   "metadata": {},
   "source": [
    "From the above results, we can see that total hits, visit hour and total pageviews are the top 3 important features when predicting the visitor's total transaction revenue. Whether the visit is the first session is also an important element when predicting. Therefore, in below we would like to explore more about the relationship between total transaction revenue and total hits, visit hour and visit number."
   ]
  },
  {
   "cell_type": "code",
   "execution_count": 54,
   "metadata": {},
   "outputs": [],
   "source": [
    "# Create a new column called 'first_session'\n",
    "df_nz['first_session'] = df_nz[\"visitNumber\"].apply(lambda x: 0 if x > 1 else 1)\n",
    "# Create a new column called 'revenue'\n",
    "def conditions(df):\n",
    "    if (df['totals.transactionRevenue'] > 1.076550e+08):\n",
    "        return 3\n",
    "    elif (df['totals.transactionRevenue'] < 2.493000e+07):\n",
    "        return 1\n",
    "    else:\n",
    "        return 2\n",
    "df_nz['revenue'] = df_nz.apply(conditions, axis=1)"
   ]
  },
  {
   "cell_type": "code",
   "execution_count": 55,
   "metadata": {},
   "outputs": [
    {
     "data": {
      "text/plain": [
       "Text(0.5, 1.0, 'Total Hits v.s. Frequency')"
      ]
     },
     "execution_count": 55,
     "metadata": {},
     "output_type": "execute_result"
    },
    {
     "data": {
      "image/png": "[encoded data removed]",
      "text/plain": [
       "<Figure size 864x504 with 1 Axes>"
      ]
     },
     "metadata": {
      "needs_background": "light"
     },
     "output_type": "display_data"
    }
   ],
   "source": [
    "# Total Hits vs Frequency\n",
    "fig = plt.figure(figsize=(12, 7))\n",
    "x1 = list(df_nz[df_nz.revenue == 1]['totals.hits'])\n",
    "x2 = list(df_nz[df_nz.revenue == 2]['totals.hits'])\n",
    "x3 = list(df_nz[df_nz.revenue == 3]['totals.hits'])\n",
    "\n",
    "# Assign colors for each labels and the names\n",
    "colors = ['paleturquoise', 'darkturquoise', 'teal']\n",
    "names = ['Low Revenue', 'Mid Revenue', 'High Revenue']\n",
    "         \n",
    "# Make the histogram using a list of lists\n",
    "# Normalize the frequency and assign colors and names\n",
    "plt.hist([x1, x2, x3], density = 1, color = colors, label=names)\n",
    "\n",
    "# Plot formatting\n",
    "plt.legend()\n",
    "plt.xlabel('Total Hits')\n",
    "plt.ylabel('Normalized Frequency')\n",
    "plt.title('Total Hits v.s. Frequency')"
   ]
  },
  {
   "cell_type": "markdown",
   "metadata": {},
   "source": [
    "From the above graph, we can see that majority of the visitors in three revenue group have total hits between range of 0 and 100. Moreover, most of the visitors whose transaction revenue is low have the lowest total hits. As for the visitors who spent high total revenue on the website, some of their total hits seem to be relatively high comparing to the other two groups."
   ]
  },
  {
   "cell_type": "code",
   "execution_count": 56,
   "metadata": {},
   "outputs": [
    {
     "data": {
      "text/plain": [
       "Text(0.5, 1.0, 'Visit Hours v.s. Frequency')"
      ]
     },
     "execution_count": 56,
     "metadata": {},
     "output_type": "execute_result"
    },
    {
     "data": {
      "image/png": "[encoded data removed]",
      "text/plain": [
       "<Figure size 864x504 with 1 Axes>"
      ]
     },
     "metadata": {
      "needs_background": "light"
     },
     "output_type": "display_data"
    }
   ],
   "source": [
    "# Visit Hours vs Frequency\n",
    "fig = plt.figure(figsize=(12, 7))\n",
    "x1 = list(df_nz[df_nz.revenue == 1]['visitHour'])\n",
    "x2 = list(df_nz[df_nz.revenue == 2]['visitHour'])\n",
    "x3 = list(df_nz[df_nz.revenue == 3]['visitHour'])\n",
    "\n",
    "# Assign colors for each labels and the names\n",
    "colors = ['lightskyblue', 'deepskyblue', 'dodgerblue']\n",
    "names = ['Low Revenue', 'Mid Revenue', 'High Revenue']\n",
    "         \n",
    "# Make the histogram using a list of lists\n",
    "# Normalize the frequency and assign colors and names\n",
    "plt.hist([x1, x2, x3], density = 1, color = colors, label=names)\n",
    "\n",
    "# Plot formatting\n",
    "plt.legend()\n",
    "plt.xlabel('Visit Hours')\n",
    "plt.ylabel('Normalized Frequency')\n",
    "plt.title('Visit Hours v.s. Frequency')"
   ]
  },
  {
   "cell_type": "code",
   "execution_count": 57,
   "metadata": {},
   "outputs": [
    {
     "data": {
      "text/plain": [
       "count    18514.000000\n",
       "mean        14.138274\n",
       "std          5.422704\n",
       "min          0.000000\n",
       "25%         11.000000\n",
       "50%         15.000000\n",
       "75%         18.000000\n",
       "max         23.000000\n",
       "Name: visitHour, dtype: float64"
      ]
     },
     "execution_count": 57,
     "metadata": {},
     "output_type": "execute_result"
    }
   ],
   "source": [
    "df_nz['visitHour'].describe()"
   ]
  },
  {
   "cell_type": "markdown",
   "metadata": {},
   "source": [
    "From the above graph, we can see that the distribution of the visit hours seems to be biopolar, only a few have visit hours around 10 hours. When the visit hours are low, less than 5 hours, visitors tend to spend lower. The reason of this might be, when people tend to buy low-price items on the website, they don't need to hesitate for a long time. On the other hand, when the visit hours are high, more than 10 hours, the majority og visitors spend higher. It is reasonable since most of the people would think twice and browsing around the website before buying expensive items. There is an interesting part of the graph, for the visit hours are higher than 20 hours, visitors whose transaction revenue is low seem to be the majority among three groups."
   ]
  },
  {
   "cell_type": "code",
   "execution_count": 58,
   "metadata": {},
   "outputs": [
    {
     "ename": "NameError",
     "evalue": "name 'mpatches' is not defined",
     "output_type": "error",
     "traceback": [
      "\u001b[0;31m---------------------------------------------------------------------------\u001b[0m",
      "\u001b[0;31mNameError\u001b[0m                                 Traceback (most recent call last)",
      "\u001b[0;32m<ipython-input-58-0387b7c2c746>\u001b[0m in \u001b[0;36m<module>\u001b[0;34m\u001b[0m\n\u001b[1;32m     28\u001b[0m \u001b[0mplt\u001b[0m\u001b[0;34m.\u001b[0m\u001b[0mxlabel\u001b[0m\u001b[0;34m(\u001b[0m\u001b[0;34m\"Total Transaction Revenue\"\u001b[0m\u001b[0;34m)\u001b[0m\u001b[0;34m\u001b[0m\u001b[0;34m\u001b[0m\u001b[0m\n\u001b[1;32m     29\u001b[0m \u001b[0mplt\u001b[0m\u001b[0;34m.\u001b[0m\u001b[0mylabel\u001b[0m\u001b[0;34m(\u001b[0m\u001b[0;34m'Counts'\u001b[0m\u001b[0;34m)\u001b[0m\u001b[0;34m\u001b[0m\u001b[0;34m\u001b[0m\u001b[0m\n\u001b[0;32m---> 30\u001b[0;31m \u001b[0mblue_patch\u001b[0m \u001b[0;34m=\u001b[0m \u001b[0mmpatches\u001b[0m\u001b[0;34m.\u001b[0m\u001b[0mPatch\u001b[0m\u001b[0;34m(\u001b[0m\u001b[0mcolor\u001b[0m\u001b[0;34m=\u001b[0m\u001b[0;34m'skyblue'\u001b[0m\u001b[0;34m,\u001b[0m \u001b[0mlabel\u001b[0m\u001b[0;34m=\u001b[0m\u001b[0;34m'Not First Session'\u001b[0m\u001b[0;34m)\u001b[0m\u001b[0;34m\u001b[0m\u001b[0;34m\u001b[0m\u001b[0m\n\u001b[0m\u001b[1;32m     31\u001b[0m \u001b[0mpink_patch\u001b[0m \u001b[0;34m=\u001b[0m \u001b[0mmpatches\u001b[0m\u001b[0;34m.\u001b[0m\u001b[0mPatch\u001b[0m\u001b[0;34m(\u001b[0m\u001b[0mcolor\u001b[0m\u001b[0;34m=\u001b[0m\u001b[0;34m'paleturquoise'\u001b[0m\u001b[0;34m,\u001b[0m \u001b[0mlabel\u001b[0m\u001b[0;34m=\u001b[0m\u001b[0;34m'First Session'\u001b[0m\u001b[0;34m)\u001b[0m\u001b[0;34m\u001b[0m\u001b[0;34m\u001b[0m\u001b[0m\n\u001b[1;32m     32\u001b[0m \u001b[0mplt\u001b[0m\u001b[0;34m.\u001b[0m\u001b[0mlegend\u001b[0m\u001b[0;34m(\u001b[0m\u001b[0mhandles\u001b[0m\u001b[0;34m=\u001b[0m\u001b[0;34m[\u001b[0m\u001b[0mblue_patch\u001b[0m\u001b[0;34m,\u001b[0m \u001b[0mpink_patch\u001b[0m\u001b[0;34m]\u001b[0m\u001b[0;34m)\u001b[0m\u001b[0;34m\u001b[0m\u001b[0;34m\u001b[0m\u001b[0m\n",
      "\u001b[0;31mNameError\u001b[0m: name 'mpatches' is not defined"
     ]
    },
    {
     "data": {
      "image/png": "[encoded data removed]",
      "text/plain": [
       "<Figure size 864x504 with 1 Axes>"
      ]
     },
     "metadata": {
      "needs_background": "light"
     },
     "output_type": "display_data"
    }
   ],
   "source": [
    "# Revenue v.s. First Session\n",
    "fig = plt.figure(figsize=(12,7))\n",
    "revenue_level = [1,2,3]\n",
    "x1 = []\n",
    "for i in range(1,4,1):\n",
    "    x1.append(len(df_nz[(df_nz['first_session'] == 0) & (df_nz['revenue'] == i)]))\n",
    "    \n",
    "x2 = []\n",
    "for i in range(1,4,1):\n",
    "    x2.append(len(df_nz[(df_nz['first_session'] == 1) & (df_nz['revenue'] == i)]))\n",
    "\n",
    "# Assign colors and the names\n",
    "colors = ['skyblue', 'lightcoral']\n",
    "names = ['Not First Session', 'First Session']\n",
    "\n",
    "# Names of group and bar width\n",
    "names = ['Low','Mid','High']\n",
    "barWidth = 1\n",
    "         \n",
    "# Create lower bars\n",
    "plt.bar(revenue_level, x1, color='skyblue', edgecolor='white', width=barWidth)\n",
    "# Create upper bars, on top of the first ones\n",
    "plt.bar(revenue_level, x2, bottom=x1, color='paleturquoise', edgecolor='white', width=barWidth)\n",
    "\n",
    "\n",
    "# Plot formatting\n",
    "plt.xticks(revenue_level, names)\n",
    "plt.xlabel(\"Total Transaction Revenue\")\n",
    "plt.ylabel('Counts')\n",
    "blue_patch = mpatches.Patch(color='skyblue', label='Not First Session')\n",
    "pink_patch = mpatches.Patch(color='paleturquoise', label='First Session')\n",
    "plt.legend(handles=[blue_patch, pink_patch])\n",
    "plt.title('Total Transaction Revenue v.s. First Session')"
   ]
  },
  {
   "cell_type": "markdown",
   "metadata": {},
   "source": [
    "From the above graph, we can see that among the low transaction revenue group, visitor are in the first session and visitors are not in the first seem to be 50% and 50%. On the other hand, among the mid and high transaction revenue groups, majority of the visitors are not in the first session. It might because visitors who spend more have already been through the website before or have already browsing around the website many time before making transaction."
   ]
  },
  {
   "cell_type": "markdown",
   "metadata": {},
   "source": [
    "### Try in Pyspark"
   ]
  },
  {
   "cell_type": "markdown",
   "metadata": {},
   "source": [
    "##### Data Wrangling and Processing"
   ]
  },
  {
   "cell_type": "code",
   "execution_count": 60,
   "metadata": {},
   "outputs": [],
   "source": [
    "# Load data\n",
    "df_ml = spark.read\\\n",
    "    .format('csv')\\\n",
    "    .option('header', 'true')\\\n",
    "    .option('inferSchema', 'true')\\\n",
    "    .load('s3://largedataset-project/nz_revenue.csv')"
   ]
  },
  {
   "cell_type": "code",
   "execution_count": 61,
   "metadata": {},
   "outputs": [],
   "source": [
    "# Rename columns with dot to prevent system error in the further machine learning process\n",
    "import re\n",
    "df_ml = df_ml.toDF(*(re.sub(r'[\\.\\s]+', '_', c) for c in df_ml.columns))"
   ]
  },
  {
   "cell_type": "code",
   "execution_count": 62,
   "metadata": {},
   "outputs": [
    {
     "name": "stdout",
     "output_type": "stream",
     "text": [
      "root\n",
      " |-- channelGrouping: string (nullable = true)\n",
      " |-- date: timestamp (nullable = true)\n",
      " |-- fullVisitorId: decimal(19,0) (nullable = true)\n",
      " |-- visitId: integer (nullable = true)\n",
      " |-- visitNumber: integer (nullable = true)\n",
      " |-- visitStartTime: integer (nullable = true)\n",
      " |-- device_browser: string (nullable = true)\n",
      " |-- device_operatingSystem: string (nullable = true)\n",
      " |-- device_isMobile: boolean (nullable = true)\n",
      " |-- device_deviceCategory: string (nullable = true)\n",
      " |-- geoNetwork_continent: string (nullable = true)\n",
      " |-- geoNetwork_subContinent: string (nullable = true)\n",
      " |-- geoNetwork_country: string (nullable = true)\n",
      " |-- geoNetwork_region: string (nullable = true)\n",
      " |-- geoNetwork_metro: string (nullable = true)\n",
      " |-- geoNetwork_city: string (nullable = true)\n",
      " |-- geoNetwork_networkDomain: string (nullable = true)\n",
      " |-- totals_hits: double (nullable = true)\n",
      " |-- totals_pageviews: double (nullable = true)\n",
      " |-- totals_transactionRevenue: double (nullable = true)\n",
      " |-- trafficSource_campaign: string (nullable = true)\n",
      " |-- trafficSource_source: string (nullable = true)\n",
      " |-- trafficSource_medium: string (nullable = true)\n",
      " |-- weekday: integer (nullable = true)\n",
      " |-- day: integer (nullable = true)\n",
      " |-- month: integer (nullable = true)\n",
      " |-- year: integer (nullable = true)\n",
      " |-- visitHour: integer (nullable = true)\n",
      "\n"
     ]
    }
   ],
   "source": [
    "df_ml.printSchema()"
   ]
  },
  {
   "cell_type": "code",
   "execution_count": 63,
   "metadata": {},
   "outputs": [],
   "source": [
    "# Drop columns that will not be used for model building\n",
    "columns_to_drop = ['date', 'fullVisitorId', 'sessionId', 'visitId', 'visitStartTime','geoNetwork_subContinent', 'geoNetwork_region', 'geoNetwork_metro', 'geoNetwork_city', 'geoNetwork_networkDomain', 'day', 'year']\n",
    "df_ml_2 = df_ml.drop(*columns_to_drop)"
   ]
  },
  {
   "cell_type": "code",
   "execution_count": 64,
   "metadata": {},
   "outputs": [
    {
     "name": "stdout",
     "output_type": "stream",
     "text": [
      "root\n",
      " |-- channelGrouping: string (nullable = true)\n",
      " |-- visitNumber: integer (nullable = true)\n",
      " |-- device_browser: string (nullable = true)\n",
      " |-- device_operatingSystem: string (nullable = true)\n",
      " |-- device_isMobile: boolean (nullable = true)\n",
      " |-- device_deviceCategory: string (nullable = true)\n",
      " |-- geoNetwork_continent: string (nullable = true)\n",
      " |-- geoNetwork_country: string (nullable = true)\n",
      " |-- totals_hits: double (nullable = true)\n",
      " |-- totals_pageviews: double (nullable = true)\n",
      " |-- totals_transactionRevenue: double (nullable = true)\n",
      " |-- trafficSource_campaign: string (nullable = true)\n",
      " |-- trafficSource_source: string (nullable = true)\n",
      " |-- trafficSource_medium: string (nullable = true)\n",
      " |-- weekday: integer (nullable = true)\n",
      " |-- month: integer (nullable = true)\n",
      " |-- visitHour: integer (nullable = true)\n",
      "\n"
     ]
    }
   ],
   "source": [
    "df_ml_2.printSchema()"
   ]
  },
  {
   "cell_type": "code",
   "execution_count": 65,
   "metadata": {},
   "outputs": [],
   "source": [
    "# Deal with boolean type columns\n",
    "from pyspark.sql.functions import col\n",
    "df_ml_2 = df_ml_2.withColumn(\"device_isMobile\", df_ml_2[\"device_isMobile\"].cast(\"integer\"))"
   ]
  },
  {
   "cell_type": "code",
   "execution_count": 66,
   "metadata": {},
   "outputs": [
    {
     "data": {
      "text/plain": [
       "[23060000.0, 46040000.0, 100000000.0]"
      ]
     },
     "execution_count": 66,
     "metadata": {},
     "output_type": "execute_result"
    }
   ],
   "source": [
    "# Calculate the quantile of total transaction revenue\n",
    "df_ml_2.approxQuantile('totals_transactionRevenue', [0.25, 0.5, 0.75], 0)"
   ]
  },
  {
   "cell_type": "code",
   "execution_count": 67,
   "metadata": {},
   "outputs": [],
   "source": [
    "# Create a new column called 'revenue' as predicted target in the model\n",
    "# High revenue means the total transaction revenue is higher than 75% quantile, which is 107,740,000\n",
    "# Low revenue means the total transaction revenue is lower than 25% quantile, which is 24,930,000\n",
    "# Mid revenue means the total transaction revenue is in between 25% to 75% quantile\n",
    "\n",
    "from pyspark.sql import functions as F\n",
    "df_ml_3 = df_ml_2.withColumn(\n",
    "    'revenue',\n",
    "    F.when(F.col(\"totals_transactionRevenue\") > 107740000.0, 'High')\\\n",
    "    .when(F.col(\"totals_transactionRevenue\").between(24930000.0,107740000.0), 'Mid')\\\n",
    "    .when(F.col(\"totals_transactionRevenue\") < 24930000.0, 'Low')\n",
    ")"
   ]
  },
  {
   "cell_type": "code",
   "execution_count": 68,
   "metadata": {},
   "outputs": [
    {
     "name": "stdout",
     "output_type": "stream",
     "text": [
      "root\n",
      " |-- channelGrouping: string (nullable = true)\n",
      " |-- visitNumber: integer (nullable = true)\n",
      " |-- device_browser: string (nullable = true)\n",
      " |-- device_operatingSystem: string (nullable = true)\n",
      " |-- device_isMobile: integer (nullable = true)\n",
      " |-- device_deviceCategory: string (nullable = true)\n",
      " |-- geoNetwork_continent: string (nullable = true)\n",
      " |-- geoNetwork_country: string (nullable = true)\n",
      " |-- totals_hits: double (nullable = true)\n",
      " |-- totals_pageviews: double (nullable = true)\n",
      " |-- totals_transactionRevenue: double (nullable = true)\n",
      " |-- trafficSource_campaign: string (nullable = true)\n",
      " |-- trafficSource_source: string (nullable = true)\n",
      " |-- trafficSource_medium: string (nullable = true)\n",
      " |-- weekday: integer (nullable = true)\n",
      " |-- month: integer (nullable = true)\n",
      " |-- visitHour: integer (nullable = true)\n",
      " |-- revenue: string (nullable = true)\n",
      "\n"
     ]
    }
   ],
   "source": [
    "df_ml_3.printSchema()"
   ]
  },
  {
   "cell_type": "code",
   "execution_count": 69,
   "metadata": {},
   "outputs": [],
   "source": [
    "# Deal with string columns\n",
    "from pyspark.ml.feature import OneHotEncoder, StringIndexer, IndexToString, VectorAssembler\n",
    "stringIndexer_channel = StringIndexer(inputCol=\"channelGrouping\", outputCol=\"channel\")\n",
    "stringIndexer_browser = StringIndexer(inputCol=\"device_browser\", outputCol=\"browser\")\n",
    "stringIndexer_system = StringIndexer(inputCol=\"device_operatingSystem\", outputCol=\"system\")\n",
    "stringIndexer_devicetype = StringIndexer(inputCol=\"device_deviceCategory\", outputCol=\"device_type\")\n",
    "stringIndexer_continent = StringIndexer(inputCol=\"geoNetwork_continent\", outputCol=\"continent\")\n",
    "stringIndexer_revenue = StringIndexer(inputCol=\"revenue\", outputCol=\"revenue_level\")"
   ]
  },
  {
   "cell_type": "code",
   "execution_count": 70,
   "metadata": {},
   "outputs": [],
   "source": [
    "revenue_fit = StringIndexer(inputCol=\"revenue\", outputCol=\"revenue_level\").fit(df_ml_3)"
   ]
  },
  {
   "cell_type": "code",
   "execution_count": 71,
   "metadata": {},
   "outputs": [
    {
     "data": {
      "text/plain": [
       "['Mid', 'Low', 'High']"
      ]
     },
     "execution_count": 71,
     "metadata": {},
     "output_type": "execute_result"
    }
   ],
   "source": [
    "revenue_fit.labels"
   ]
  },
  {
   "cell_type": "code",
   "execution_count": 72,
   "metadata": {},
   "outputs": [],
   "source": [
    "from pyspark.ml import Pipeline\n",
    "pipeline_string_index = Pipeline(stages=[stringIndexer_channel, \n",
    "                               stringIndexer_browser, \n",
    "                               stringIndexer_system, \n",
    "                               stringIndexer_devicetype, \n",
    "                               stringIndexer_continent, stringIndexer_revenue])\n",
    "df_ml_4 = pipeline_string_index.fit(df_ml_3).transform(df_ml_3)"
   ]
  },
  {
   "cell_type": "code",
   "execution_count": 73,
   "metadata": {},
   "outputs": [
    {
     "name": "stdout",
     "output_type": "stream",
     "text": [
      "root\n",
      " |-- channelGrouping: string (nullable = true)\n",
      " |-- visitNumber: integer (nullable = true)\n",
      " |-- device_browser: string (nullable = true)\n",
      " |-- device_operatingSystem: string (nullable = true)\n",
      " |-- device_isMobile: integer (nullable = true)\n",
      " |-- device_deviceCategory: string (nullable = true)\n",
      " |-- geoNetwork_continent: string (nullable = true)\n",
      " |-- geoNetwork_country: string (nullable = true)\n",
      " |-- totals_hits: double (nullable = true)\n",
      " |-- totals_pageviews: double (nullable = true)\n",
      " |-- totals_transactionRevenue: double (nullable = true)\n",
      " |-- trafficSource_campaign: string (nullable = true)\n",
      " |-- trafficSource_source: string (nullable = true)\n",
      " |-- trafficSource_medium: string (nullable = true)\n",
      " |-- weekday: integer (nullable = true)\n",
      " |-- month: integer (nullable = true)\n",
      " |-- visitHour: integer (nullable = true)\n",
      " |-- revenue: string (nullable = true)\n",
      " |-- channel: double (nullable = false)\n",
      " |-- browser: double (nullable = false)\n",
      " |-- system: double (nullable = false)\n",
      " |-- device_type: double (nullable = false)\n",
      " |-- continent: double (nullable = false)\n",
      " |-- revenue_level: double (nullable = false)\n",
      "\n"
     ]
    }
   ],
   "source": [
    "df_ml_4.printSchema()"
   ]
  },
  {
   "cell_type": "code",
   "execution_count": 74,
   "metadata": {},
   "outputs": [],
   "source": [
    "# Create columns that contains all the features by using vector assembler\n",
    "vectorAssembler_feature = VectorAssembler(inputCols = ['channel',\n",
    "                                                       'visitNumber',\n",
    "                                                       'browser', \n",
    "                                                       'system',\n",
    "                                                       'device_type', \n",
    "                                                       'continent',\n",
    "                                                       'totals_hits', \n",
    "                                                       'totals_pageviews', \n",
    "                                                       'visitHour'], \n",
    "                                          outputCol = 'features')"
   ]
  },
  {
   "cell_type": "code",
   "execution_count": 75,
   "metadata": {},
   "outputs": [
    {
     "data": {
      "text/plain": [
       "VectorAssembler_70b8dbb16a98"
      ]
     },
     "execution_count": 75,
     "metadata": {},
     "output_type": "execute_result"
    }
   ],
   "source": [
    "vectorAssembler_feature "
   ]
  },
  {
   "cell_type": "code",
   "execution_count": 76,
   "metadata": {},
   "outputs": [],
   "source": [
    "df_ml_clean = vectorAssembler_feature.transform(df_ml_4)"
   ]
  },
  {
   "cell_type": "code",
   "execution_count": 77,
   "metadata": {},
   "outputs": [
    {
     "data": {
      "text/plain": [
       "[Row(channelGrouping='Organic Search', visitNumber=4, device_browser='Chrome', device_operatingSystem='Macintosh', device_isMobile=0, device_deviceCategory='desktop', geoNetwork_continent='Americas', geoNetwork_country='United States', totals_hits=9.0, totals_pageviews=9.0, totals_transactionRevenue=15190000.0, trafficSource_campaign='(not set)', trafficSource_source='google', trafficSource_medium='organic', weekday=0, month=10, visitHour=20, revenue='Low', channel=1.0, browser=0.0, system=0.0, device_type=0.0, continent=0.0, revenue_level=1.0, features=DenseVector([1.0, 4.0, 0.0, 0.0, 0.0, 0.0, 9.0, 9.0, 20.0])),\n",
       " Row(channelGrouping='Referral', visitNumber=11, device_browser='Chrome', device_operatingSystem='Windows', device_isMobile=0, device_deviceCategory='desktop', geoNetwork_continent='Americas', geoNetwork_country='United States', totals_hits=15.0, totals_pageviews=12.0, totals_transactionRevenue=8000000.0, trafficSource_campaign='(not set)', trafficSource_source='(direct)', trafficSource_medium='(none)', weekday=0, month=10, visitHour=18, revenue='Low', channel=0.0, browser=0.0, system=1.0, device_type=0.0, continent=0.0, revenue_level=1.0, features=DenseVector([0.0, 11.0, 0.0, 1.0, 0.0, 0.0, 15.0, 12.0, 18.0])),\n",
       " Row(channelGrouping='Organic Search', visitNumber=6, device_browser='Safari', device_operatingSystem='iOS', device_isMobile=1, device_deviceCategory='mobile', geoNetwork_continent='Americas', geoNetwork_country='United States', totals_hits=15.0, totals_pageviews=15.0, totals_transactionRevenue=57300000.0, trafficSource_campaign='(not set)', trafficSource_source='google', trafficSource_medium='organic', weekday=0, month=10, visitHour=9, revenue='Mid', channel=1.0, browser=1.0, system=4.0, device_type=1.0, continent=0.0, revenue_level=0.0, features=DenseVector([1.0, 6.0, 1.0, 4.0, 1.0, 0.0, 15.0, 15.0, 9.0]))]"
      ]
     },
     "execution_count": 77,
     "metadata": {},
     "output_type": "execute_result"
    }
   ],
   "source": [
    "df_ml_clean.take(3)"
   ]
  },
  {
   "cell_type": "markdown",
   "metadata": {},
   "source": [
    "### Split the dataset to training and test data"
   ]
  },
  {
   "cell_type": "code",
   "execution_count": 78,
   "metadata": {},
   "outputs": [],
   "source": [
    "split = df_ml_clean.randomSplit([0.7, 0.3], seed = 100)\n",
    "df_train = split[0].select(['features', 'revenue_level'])\n",
    "df_test = split[1].select(['features', 'revenue_level'])"
   ]
  },
  {
   "cell_type": "code",
   "execution_count": 79,
   "metadata": {},
   "outputs": [
    {
     "name": "stdout",
     "output_type": "stream",
     "text": [
      "root\n",
      " |-- features: vector (nullable = true)\n",
      " |-- revenue_level: double (nullable = false)\n",
      "\n"
     ]
    }
   ],
   "source": [
    "df_train.printSchema()"
   ]
  },
  {
   "cell_type": "code",
   "execution_count": 80,
   "metadata": {},
   "outputs": [
    {
     "name": "stdout",
     "output_type": "stream",
     "text": [
      "+--------------------+-------------+\n",
      "|            features|revenue_level|\n",
      "+--------------------+-------------+\n",
      "|[6.0,1.0,0.0,5.0,...|          1.0|\n",
      "|[6.0,1.0,0.0,0.0,...|          1.0|\n",
      "|[6.0,1.0,0.0,0.0,...|          2.0|\n",
      "+--------------------+-------------+\n",
      "only showing top 3 rows\n",
      "\n"
     ]
    }
   ],
   "source": [
    "df_train.show(3)"
   ]
  },
  {
   "cell_type": "markdown",
   "metadata": {},
   "source": [
    "### Apply Random Forest Classification"
   ]
  },
  {
   "cell_type": "code",
   "execution_count": 81,
   "metadata": {},
   "outputs": [],
   "source": [
    "from pyspark.ml.classification import RandomForestClassifier\n",
    "rf = RandomForestClassifier(labelCol=\"revenue_level\", featuresCol=\"features\")"
   ]
  },
  {
   "cell_type": "code",
   "execution_count": 82,
   "metadata": {},
   "outputs": [],
   "source": [
    "rf_model = rf.fit(df_train)"
   ]
  },
  {
   "cell_type": "code",
   "execution_count": 83,
   "metadata": {},
   "outputs": [
    {
     "name": "stdout",
     "output_type": "stream",
     "text": [
      "+----------+-------------+--------------------+\n",
      "|prediction|revenue_level|            features|\n",
      "+----------+-------------+--------------------+\n",
      "|       0.0|          1.0|[6.0,1.0,1.0,0.0,...|\n",
      "|       0.0|          1.0|[6.0,2.0,0.0,0.0,...|\n",
      "|       0.0|          2.0|[6.0,2.0,0.0,1.0,...|\n",
      "|       0.0|          2.0|[6.0,2.0,0.0,1.0,...|\n",
      "|       1.0|          1.0|[2.0,1.0,7.0,5.0,...|\n",
      "+----------+-------------+--------------------+\n",
      "only showing top 5 rows\n",
      "\n"
     ]
    }
   ],
   "source": [
    "predictions = rf_model.transform(df_test)\n",
    "predictions.select(\"prediction\", \"revenue_level\", \"features\").show(5)"
   ]
  },
  {
   "cell_type": "code",
   "execution_count": 84,
   "metadata": {},
   "outputs": [
    {
     "name": "stdout",
     "output_type": "stream",
     "text": [
      "Accuracy = 0.526191\n",
      "Test Error = 0.473809\n"
     ]
    }
   ],
   "source": [
    "from pyspark.ml.evaluation import MulticlassClassificationEvaluator\n",
    "evaluatorRF = MulticlassClassificationEvaluator(labelCol=\"revenue_level\", predictionCol=\"prediction\", metricName=\"accuracy\")\n",
    "accuracy = evaluatorRF.evaluate(predictions)\n",
    "\n",
    "print(\"Accuracy = %g\" % accuracy)\n",
    "print(\"Test Error = %g\" % (1.0 - accuracy))"
   ]
  },
  {
   "cell_type": "code",
   "execution_count": 85,
   "metadata": {},
   "outputs": [
    {
     "name": "stdout",
     "output_type": "stream",
     "text": [
      "+--------------------+-------------+--------------------+--------------------+----------+\n",
      "|            features|revenue_level|       rawPrediction|         probability|prediction|\n",
      "+--------------------+-------------+--------------------+--------------------+----------+\n",
      "|[6.0,1.0,1.0,0.0,...|          1.0|[9.25537098796497...|[0.46276854939824...|       0.0|\n",
      "|[6.0,2.0,0.0,0.0,...|          1.0|[10.6301176135365...|[0.53150588067682...|       0.0|\n",
      "|[6.0,2.0,0.0,1.0,...|          2.0|[9.57306841581633...|[0.47865342079081...|       0.0|\n",
      "+--------------------+-------------+--------------------+--------------------+----------+\n",
      "only showing top 3 rows\n",
      "\n"
     ]
    }
   ],
   "source": [
    "predictions.show(3)"
   ]
  },
  {
   "cell_type": "markdown",
   "metadata": {},
   "source": [
    "### Predict Making Transaction or Not"
   ]
  },
  {
   "cell_type": "markdown",
   "metadata": {},
   "source": [
    "In this part, we apply gradient boosting classifier to predict whether the visitor will make transaction."
   ]
  },
  {
   "cell_type": "markdown",
   "metadata": {},
   "source": [
    "##### Data Wrangling and Processing"
   ]
  },
  {
   "cell_type": "code",
   "execution_count": 88,
   "metadata": {},
   "outputs": [],
   "source": [
    "# Load data\n",
    "df_ml2 = spark.read\\\n",
    "    .format('csv')\\\n",
    "    .option('header', 'true')\\\n",
    "    .option('inferSchema', 'true')\\\n",
    "    .load('s3://largedataset-project/data_clean.csv')"
   ]
  },
  {
   "cell_type": "code",
   "execution_count": 89,
   "metadata": {},
   "outputs": [],
   "source": [
    "# Rename columns with dot to prevent system error in the further machine learning process\n",
    "import re\n",
    "df_ml2 = df_ml2.toDF(*(re.sub(r'[\\.\\s]+', '_', c) for c in df_ml.columns))"
   ]
  },
  {
   "cell_type": "code",
   "execution_count": 93,
   "metadata": {},
   "outputs": [
    {
     "name": "stdout",
     "output_type": "stream",
     "text": [
      "root\n",
      " |-- channelGrouping: string (nullable = true)\n",
      " |-- date: timestamp (nullable = true)\n",
      " |-- fullVisitorId: decimal(20,0) (nullable = true)\n",
      " |-- visitId: integer (nullable = true)\n",
      " |-- visitNumber: integer (nullable = true)\n",
      " |-- visitStartTime: integer (nullable = true)\n",
      " |-- device_browser: string (nullable = true)\n",
      " |-- device_operatingSystem: string (nullable = true)\n",
      " |-- device_isMobile: boolean (nullable = true)\n",
      " |-- device_deviceCategory: string (nullable = true)\n",
      " |-- geoNetwork_continent: string (nullable = true)\n",
      " |-- geoNetwork_subContinent: string (nullable = true)\n",
      " |-- geoNetwork_country: string (nullable = true)\n",
      " |-- geoNetwork_region: string (nullable = true)\n",
      " |-- geoNetwork_metro: string (nullable = true)\n",
      " |-- geoNetwork_city: string (nullable = true)\n",
      " |-- geoNetwork_networkDomain: string (nullable = true)\n",
      " |-- totals_hits: double (nullable = true)\n",
      " |-- totals_pageviews: double (nullable = true)\n",
      " |-- totals_transactionRevenue: double (nullable = true)\n",
      " |-- trafficSource_campaign: string (nullable = true)\n",
      " |-- trafficSource_source: string (nullable = true)\n",
      " |-- trafficSource_medium: string (nullable = true)\n",
      " |-- weekday: integer (nullable = true)\n",
      " |-- day: integer (nullable = true)\n",
      " |-- month: integer (nullable = true)\n",
      " |-- year: integer (nullable = true)\n",
      " |-- visitHour: integer (nullable = true)\n",
      "\n"
     ]
    }
   ],
   "source": [
    "df_ml2.printSchema()"
   ]
  },
  {
   "cell_type": "code",
   "execution_count": 94,
   "metadata": {},
   "outputs": [],
   "source": [
    "# Drop columns that will not be used for model building\n",
    "columns_to_drop = ['date', 'fullVisitorId', 'visitId', 'visitStartTime','geoNetwork_subContinent', 'geoNetwork_region', 'geoNetwork_metro', 'geoNetwork_city', 'geoNetwork_networkDomain', 'day', 'year']\n",
    "df_ml2_2 = df_ml2.drop(*columns_to_drop)"
   ]
  },
  {
   "cell_type": "code",
   "execution_count": 95,
   "metadata": {},
   "outputs": [
    {
     "name": "stdout",
     "output_type": "stream",
     "text": [
      "root\n",
      " |-- channelGrouping: string (nullable = true)\n",
      " |-- visitNumber: integer (nullable = true)\n",
      " |-- device_browser: string (nullable = true)\n",
      " |-- device_operatingSystem: string (nullable = true)\n",
      " |-- device_isMobile: boolean (nullable = true)\n",
      " |-- device_deviceCategory: string (nullable = true)\n",
      " |-- geoNetwork_continent: string (nullable = true)\n",
      " |-- geoNetwork_country: string (nullable = true)\n",
      " |-- totals_hits: double (nullable = true)\n",
      " |-- totals_pageviews: double (nullable = true)\n",
      " |-- totals_transactionRevenue: double (nullable = true)\n",
      " |-- trafficSource_campaign: string (nullable = true)\n",
      " |-- trafficSource_source: string (nullable = true)\n",
      " |-- trafficSource_medium: string (nullable = true)\n",
      " |-- weekday: integer (nullable = true)\n",
      " |-- month: integer (nullable = true)\n",
      " |-- visitHour: integer (nullable = true)\n",
      "\n"
     ]
    }
   ],
   "source": [
    "df_ml2_2.printSchema()"
   ]
  },
  {
   "cell_type": "code",
   "execution_count": 96,
   "metadata": {},
   "outputs": [],
   "source": [
    "# Deal with boolean type columns\n",
    "from pyspark.sql.functions import col\n",
    "df_ml2_3 = df_ml2_2.withColumn(\"device_isMobile\", df_ml2_2[\"device_isMobile\"].cast(\"integer\"))"
   ]
  },
  {
   "cell_type": "code",
   "execution_count": 97,
   "metadata": {},
   "outputs": [],
   "source": [
    "# Create a column \"transaction\" as our target in the ml model\n",
    "df_ml2_4 = df_ml2_3.withColumn(\n",
    "    'transaction',\n",
    "    F.when(F.col(\"totals_transactionRevenue\") > 0.0, 'Yes')\\\n",
    "    .otherwise('No')\n",
    ")"
   ]
  },
  {
   "cell_type": "code",
   "execution_count": 98,
   "metadata": {},
   "outputs": [
    {
     "name": "stdout",
     "output_type": "stream",
     "text": [
      "root\n",
      " |-- channelGrouping: string (nullable = true)\n",
      " |-- visitNumber: integer (nullable = true)\n",
      " |-- device_browser: string (nullable = true)\n",
      " |-- device_operatingSystem: string (nullable = true)\n",
      " |-- device_isMobile: integer (nullable = true)\n",
      " |-- device_deviceCategory: string (nullable = true)\n",
      " |-- geoNetwork_continent: string (nullable = true)\n",
      " |-- geoNetwork_country: string (nullable = true)\n",
      " |-- totals_hits: double (nullable = true)\n",
      " |-- totals_pageviews: double (nullable = true)\n",
      " |-- totals_transactionRevenue: double (nullable = true)\n",
      " |-- trafficSource_campaign: string (nullable = true)\n",
      " |-- trafficSource_source: string (nullable = true)\n",
      " |-- trafficSource_medium: string (nullable = true)\n",
      " |-- weekday: integer (nullable = true)\n",
      " |-- month: integer (nullable = true)\n",
      " |-- visitHour: integer (nullable = true)\n",
      " |-- transaction: string (nullable = false)\n",
      "\n"
     ]
    }
   ],
   "source": [
    "df_ml2_4.printSchema()"
   ]
  },
  {
   "cell_type": "code",
   "execution_count": 99,
   "metadata": {},
   "outputs": [
    {
     "data": {
      "text/plain": [
       "[Row(channelGrouping='Organic Search', visitNumber=1, device_browser='Firefox', device_operatingSystem='Windows', device_isMobile=0, device_deviceCategory='desktop', geoNetwork_continent='Europe', geoNetwork_country='Germany', totals_hits=1.0, totals_pageviews=1.0, totals_transactionRevenue=0.0, trafficSource_campaign='(not set)', trafficSource_source='google', trafficSource_medium='organic', weekday=0, month=10, visitHour=20, transaction='No'),\n",
       " Row(channelGrouping='Referral', visitNumber=6, device_browser='Chrome', device_operatingSystem='Chrome OS', device_isMobile=0, device_deviceCategory='desktop', geoNetwork_continent='Americas', geoNetwork_country='United States', totals_hits=2.0, totals_pageviews=2.0, totals_transactionRevenue=0.0, trafficSource_campaign='(not set)', trafficSource_source='sites.google.com', trafficSource_medium='referral', weekday=0, month=10, visitHour=13, transaction='No'),\n",
       " Row(channelGrouping='Direct', visitNumber=1, device_browser='Chrome', device_operatingSystem='Android', device_isMobile=1, device_deviceCategory='mobile', geoNetwork_continent='Americas', geoNetwork_country='United States', totals_hits=2.0, totals_pageviews=2.0, totals_transactionRevenue=0.0, trafficSource_campaign='(not set)', trafficSource_source='(direct)', trafficSource_medium='(none)', weekday=0, month=10, visitHour=20, transaction='No')]"
      ]
     },
     "execution_count": 99,
     "metadata": {},
     "output_type": "execute_result"
    }
   ],
   "source": [
    "df_ml2_4.take(3)"
   ]
  },
  {
   "cell_type": "code",
   "execution_count": 100,
   "metadata": {},
   "outputs": [],
   "source": [
    "df_ml2_clean = df_ml2_4"
   ]
  },
  {
   "cell_type": "code",
   "execution_count": 106,
   "metadata": {},
   "outputs": [],
   "source": [
    "# Deal with String\n",
    "from pyspark.ml.feature import OneHotEncoder, StringIndexer, IndexToString, VectorAssembler\n",
    "stringIndexer_channel = StringIndexer(inputCol=\"channelGrouping\", outputCol=\"channel\")\n",
    "stringIndexer_system = StringIndexer(inputCol=\"device_operatingSystem\", outputCol=\"system\")\n",
    "stringIndexer_devicetype = StringIndexer(inputCol=\"device_deviceCategory\", outputCol=\"device_type\")\n",
    "stringIndexer_continent = StringIndexer(inputCol=\"geoNetwork_continent\", outputCol=\"continent\")\n",
    "stringIndexer_transaction = StringIndexer(inputCol=\"transaction\", outputCol=\"make_transaction\")"
   ]
  },
  {
   "cell_type": "code",
   "execution_count": 107,
   "metadata": {},
   "outputs": [],
   "source": [
    "transaction_fit = StringIndexer(inputCol=\"transaction\", outputCol=\"make_transaction\").fit(df_ml2_clean)"
   ]
  },
  {
   "cell_type": "code",
   "execution_count": 108,
   "metadata": {},
   "outputs": [
    {
     "data": {
      "text/plain": [
       "['No', 'Yes']"
      ]
     },
     "execution_count": 108,
     "metadata": {},
     "output_type": "execute_result"
    }
   ],
   "source": [
    "transaction_fit.labels"
   ]
  },
  {
   "cell_type": "code",
   "execution_count": 109,
   "metadata": {},
   "outputs": [],
   "source": [
    "# Create columns that contains all the features by using vector assembler\n",
    "vectorAssembler_features = VectorAssembler(inputCols = ['channel',\n",
    "                                                       'visitNumber', \n",
    "                                                       'system',\n",
    "                                                       'device_type', \n",
    "                                                       'continent',\n",
    "                                                       'totals_hits', \n",
    "                                                       'totals_pageviews', \n",
    "                                                       'visitHour'], \n",
    "                                          outputCol = 'features')"
   ]
  },
  {
   "cell_type": "markdown",
   "metadata": {},
   "source": [
    "##### Preparation for Modeling and Split the dataset into training and test data"
   ]
  },
  {
   "cell_type": "code",
   "execution_count": 110,
   "metadata": {},
   "outputs": [],
   "source": [
    "from pyspark.ml.classification import GBTClassifier\n",
    "gbt = GBTClassifier(labelCol=\"make_transaction\", featuresCol=\"features\", maxIter=10)"
   ]
  },
  {
   "cell_type": "code",
   "execution_count": 111,
   "metadata": {},
   "outputs": [],
   "source": [
    "labelConverter = IndexToString(inputCol=\"prediction\", \n",
    "                               outputCol=\"predictedLabel\", \n",
    "                               labels=stringIndexer_transaction.fit(df_ml2_clean).labels)"
   ]
  },
  {
   "cell_type": "code",
   "execution_count": 112,
   "metadata": {},
   "outputs": [],
   "source": [
    "pipeline_gbt = Pipeline(stages=[stringIndexer_transaction, \n",
    "                                stringIndexer_channel, \n",
    "                                stringIndexer_system, \n",
    "                                stringIndexer_devicetype, \n",
    "                                stringIndexer_continent, \n",
    "                                vectorAssembler_features, \n",
    "                                gbt, labelConverter])"
   ]
  },
  {
   "cell_type": "code",
   "execution_count": 113,
   "metadata": {},
   "outputs": [],
   "source": [
    "split = df_ml2_clean.randomSplit([0.7, 0.3], seed = 101)\n",
    "df_train2 = split[0]\n",
    "df_test2 = split[1]"
   ]
  },
  {
   "cell_type": "code",
   "execution_count": 114,
   "metadata": {},
   "outputs": [
    {
     "name": "stdout",
     "output_type": "stream",
     "text": [
      "root\n",
      " |-- channelGrouping: string (nullable = true)\n",
      " |-- visitNumber: integer (nullable = true)\n",
      " |-- device_browser: string (nullable = true)\n",
      " |-- device_operatingSystem: string (nullable = true)\n",
      " |-- device_isMobile: integer (nullable = true)\n",
      " |-- device_deviceCategory: string (nullable = true)\n",
      " |-- geoNetwork_continent: string (nullable = true)\n",
      " |-- geoNetwork_country: string (nullable = true)\n",
      " |-- totals_hits: double (nullable = true)\n",
      " |-- totals_pageviews: double (nullable = true)\n",
      " |-- totals_transactionRevenue: double (nullable = true)\n",
      " |-- trafficSource_campaign: string (nullable = true)\n",
      " |-- trafficSource_source: string (nullable = true)\n",
      " |-- trafficSource_medium: string (nullable = true)\n",
      " |-- weekday: integer (nullable = true)\n",
      " |-- month: integer (nullable = true)\n",
      " |-- visitHour: integer (nullable = true)\n",
      " |-- transaction: string (nullable = false)\n",
      "\n"
     ]
    }
   ],
   "source": [
    "df_train2.printSchema()"
   ]
  },
  {
   "cell_type": "code",
   "execution_count": 115,
   "metadata": {},
   "outputs": [
    {
     "name": "stdout",
     "output_type": "stream",
     "text": [
      "+---------------+-----------+--------------+----------------------+---------------+---------------------+--------------------+------------------+-----------+----------------+-------------------------+----------------------+--------------------+--------------------+-------+-----+---------+-----------+\n",
      "|channelGrouping|visitNumber|device_browser|device_operatingSystem|device_isMobile|device_deviceCategory|geoNetwork_continent|geoNetwork_country|totals_hits|totals_pageviews|totals_transactionRevenue|trafficSource_campaign|trafficSource_source|trafficSource_medium|weekday|month|visitHour|transaction|\n",
      "+---------------+-----------+--------------+----------------------+---------------+---------------------+--------------------+------------------+-----------+----------------+-------------------------+----------------------+--------------------+--------------------+-------+-----+---------+-----------+\n",
      "|        (Other)|          1|        Chrome|             Macintosh|              0|              desktop|              Europe|           Germany|        1.0|             1.0|                      0.0|             (not set)|            Partners|           (not set)|      2|    1|        8|         No|\n",
      "|        (Other)|          2|        Chrome|             Macintosh|              0|              desktop|              Europe|           Germany|        2.0|             2.0|                      0.0|             (not set)|            Partners|           (not set)|      2|    1|       10|         No|\n",
      "|     Affiliates|          1|   Amazon Silk|               Android|              1|               tablet|            Americas|     United States|        9.0|             9.0|                      0.0|      Data Share Promo|            Partners|           affiliate|      6|    4|       17|         No|\n",
      "+---------------+-----------+--------------+----------------------+---------------+---------------------+--------------------+------------------+-----------+----------------+-------------------------+----------------------+--------------------+--------------------+-------+-----+---------+-----------+\n",
      "only showing top 3 rows\n",
      "\n"
     ]
    }
   ],
   "source": [
    "df_train2.show(3)"
   ]
  },
  {
   "cell_type": "markdown",
   "metadata": {},
   "source": [
    "##### Apply Gradient Boosting Classification"
   ]
  },
  {
   "cell_type": "code",
   "execution_count": 116,
   "metadata": {},
   "outputs": [],
   "source": [
    "gbt_model = pipeline_gbt.fit(df_train2)"
   ]
  },
  {
   "cell_type": "code",
   "execution_count": 117,
   "metadata": {},
   "outputs": [
    {
     "name": "stdout",
     "output_type": "stream",
     "text": [
      "+----------+----------------+--------------------+\n",
      "|prediction|make_transaction|            features|\n",
      "+----------+----------------+--------------------+\n",
      "|       0.0|             0.0|[6.0,1.0,2.0,1.0,...|\n",
      "|       0.0|             0.0|[6.0,1.0,2.0,1.0,...|\n",
      "|       0.0|             0.0|[6.0,1.0,2.0,1.0,...|\n",
      "|       0.0|             0.0|[6.0,1.0,2.0,1.0,...|\n",
      "|       0.0|             0.0|[6.0,1.0,2.0,1.0,...|\n",
      "+----------+----------------+--------------------+\n",
      "only showing top 5 rows\n",
      "\n"
     ]
    }
   ],
   "source": [
    "predictions = gbt_model.transform(df_test2)\n",
    "predictions.select(\"prediction\", \"make_transaction\", \"features\").show(5)"
   ]
  },
  {
   "cell_type": "code",
   "execution_count": 118,
   "metadata": {},
   "outputs": [
    {
     "name": "stdout",
     "output_type": "stream",
     "text": [
      "Accuracy = 0.989435\n",
      "Test Error = 0.0105654\n"
     ]
    }
   ],
   "source": [
    "evaluatorGBT = MulticlassClassificationEvaluator(labelCol=\"make_transaction\", predictionCol=\"prediction\", metricName=\"accuracy\")\n",
    "accuracy = evaluatorGBT.evaluate(predictions)\n",
    "\n",
    "print(\"Accuracy = %g\" % accuracy)\n",
    "print(\"Test Error = %g\" % (1.0 - accuracy))"
   ]
  },
  {
   "cell_type": "code",
   "execution_count": 119,
   "metadata": {},
   "outputs": [
    {
     "name": "stdout",
     "output_type": "stream",
     "text": [
      "+---------------+-----------+---------------+----------------------+---------------+---------------------+--------------------+------------------+-----------+----------------+-------------------------+----------------------+--------------------+--------------------+-------+-----+---------+-----------+----------------+-------+------+-----------+---------+--------------------+--------------------+--------------------+----------+--------------+\n",
      "|channelGrouping|visitNumber| device_browser|device_operatingSystem|device_isMobile|device_deviceCategory|geoNetwork_continent|geoNetwork_country|totals_hits|totals_pageviews|totals_transactionRevenue|trafficSource_campaign|trafficSource_source|trafficSource_medium|weekday|month|visitHour|transaction|make_transaction|channel|system|device_type|continent|            features|       rawPrediction|         probability|prediction|predictedLabel|\n",
      "+---------------+-----------+---------------+----------------------+---------------+---------------------+--------------------+------------------+-----------+----------------+-------------------------+----------------------+--------------------+--------------------+-------+-----+---------+-----------+----------------+-------+------+-----------+---------+--------------------+--------------------+--------------------+----------+--------------+\n",
      "|     Affiliates|          1|Android Webview|               Android|              1|               mobile|            Americas|            Brazil|        1.0|             1.0|                      0.0|      Data Share Promo|            Partners|           affiliate|      0|   10|       13|         No|             0.0|    6.0|   2.0|        1.0|      0.0|[6.0,1.0,2.0,1.0,...|[1.32586562859205...|[0.93411761546765...|       0.0|            No|\n",
      "|     Affiliates|          1|Android Webview|               Android|              1|               mobile|            Americas|            Brazil|        6.0|             6.0|                      0.0|      Data Share Promo|            Partners|           affiliate|      1|    6|       22|         No|             0.0|    6.0|   2.0|        1.0|      0.0|[6.0,1.0,2.0,1.0,...|[1.32449584927567...|[0.93394881719071...|       0.0|            No|\n",
      "|     Affiliates|          1|Android Webview|               Android|              1|               mobile|            Americas|            Brazil|       10.0|            10.0|                      0.0|      Data Share Promo|            Partners|           affiliate|      6|    3|       19|         No|             0.0|    6.0|   2.0|        1.0|      0.0|[6.0,1.0,2.0,1.0,...|[1.30119998629337...|[0.93101587818302...|       0.0|            No|\n",
      "|     Affiliates|          1|Android Webview|               Android|              1|               mobile|            Americas|            Mexico|        2.0|             2.0|                      0.0|      Data Share Promo|            Partners|           affiliate|      2|    1|        9|         No|             0.0|    6.0|   2.0|        1.0|      0.0|[6.0,1.0,2.0,1.0,...|[1.32586562859205...|[0.93411761546765...|       0.0|            No|\n",
      "|     Affiliates|          1|Android Webview|               Android|              1|               mobile|            Americas|     United States|        2.0|             2.0|                      0.0|      Data Share Promo|            Partners|           affiliate|      2|    1|        3|         No|             0.0|    6.0|   2.0|        1.0|      0.0|[6.0,1.0,2.0,1.0,...|[1.32586562859205...|[0.93411761546765...|       0.0|            No|\n",
      "+---------------+-----------+---------------+----------------------+---------------+---------------------+--------------------+------------------+-----------+----------------+-------------------------+----------------------+--------------------+--------------------+-------+-----+---------+-----------+----------------+-------+------+-----------+---------+--------------------+--------------------+--------------------+----------+--------------+\n",
      "only showing top 5 rows\n",
      "\n"
     ]
    }
   ],
   "source": [
    "predictions.show(5)"
   ]
  },
  {
   "cell_type": "code",
   "execution_count": null,
   "metadata": {},
   "outputs": [],
   "source": []
  },
  {
   "cell_type": "code",
   "execution_count": null,
   "metadata": {},
   "outputs": [],
   "source": []
  },
  {
   "cell_type": "code",
   "execution_count": null,
   "metadata": {},
   "outputs": [],
   "source": []
  },
  {
   "cell_type": "code",
   "execution_count": 46,
   "metadata": {},
   "outputs": [],
   "source": [
    "sc.stop()"
   ]
  },
  {
   "cell_type": "code",
   "execution_count": 47,
   "metadata": {},
   "outputs": [],
   "source": [
    "spark.stop()"
   ]
  },
  {
   "cell_type": "code",
   "execution_count": null,
   "metadata": {},
   "outputs": [],
   "source": []
  }
 ],
 "metadata": {
  "kernelspec": {
   "display_name": "Python 3",
   "language": "python",
   "name": "python3"
  },
  "language_info": {
   "codemirror_mode": {
    "name": "ipython",
    "version": 3
   },
   "file_extension": ".py",
   "mimetype": "text/x-python",
   "name": "python",
   "nbconvert_exporter": "python",
   "pygments_lexer": "ipython3",
   "version": "3.7.7"
  }
 },
 "nbformat": 4,
 "nbformat_minor": 4
}
